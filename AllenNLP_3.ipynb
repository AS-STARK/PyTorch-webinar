{
 "cells": [
  {
   "cell_type": "markdown",
   "metadata": {},
   "source": [
    "# Machine Learning with PyTorch"
   ]
  },
  {
   "cell_type": "markdown",
   "metadata": {},
   "source": [
    "## Natural Language Processing with AllenNLP"
   ]
  },
  {
   "cell_type": "markdown",
   "metadata": {},
   "source": [
    "<font size=\"+1\"><u><b>What is AllenNLP?</b></u></font>\n",
    "<a href=\"AllenNLP_0.ipynb\"><img src=\"img/open-notebook.png\" align=\"right\"/></a>\n",
    "\n",
    "<font size=\"+1\">What is SpaCy?</font>\n",
    "<a href=\"AllenNLP_1.ipynb\"><img src=\"img/open-notebook.png\" align=\"right\"/></a>\n",
    "\n",
    "<font size=\"+1\">Hight Level Interfaces to NLP using PyTorch</font>\n",
    "<a href=\"AllenNLP_2.ipynb\"><img src=\"img/open-notebook.png\" align=\"right\"/></a>\n",
    "\n",
    "<font size=\"+1\">Sentiment Analysis</font>\n",
    "<a href=\"AllenNLP_3.ipynb\"><img src=\"img/open-notebook.png\" align=\"right\"/></a>\n",
    "\n",
    "<font size=\"+1\">TBD</font> \n",
    "<a href=\"AllenNLP_4.ipynb\"><img src=\"img/open-notebook.png\" align=\"right\"/></a>\n",
    "\n",
    "<font size=\"+1\">TBD</font>\n",
    "<a href=\"AllenNLP_5.ipynb\"><img src=\"img/open-notebook.png\" align=\"right\"/></a>\n",
    "\n",
    "<font size=\"+1\">TBD</font>\n",
    "<a href=\"AllenNLP_6.ipynb\"><img src=\"img/open-notebook.png\" align=\"right\"/></a>"
   ]
  },
  {
   "cell_type": "markdown",
   "metadata": {},
   "source": [
    "As a minor matter, a number of functions in AllenNLP echo progress messages to STDERR in a way I find distracting for these lessons.  We can stash them in a log file instead."
   ]
  },
  {
   "cell_type": "code",
   "execution_count": 1,
   "metadata": {},
   "outputs": [],
   "source": [
    "from contextlib import redirect_stderr\n",
    "log = open('stderr.log', 'w')"
   ]
  },
  {
   "cell_type": "markdown",
   "metadata": {},
   "source": [
    "Also check for CUDA, which will make things run much faster."
   ]
  },
  {
   "cell_type": "code",
   "execution_count": 2,
   "metadata": {},
   "outputs": [],
   "source": [
    "import torch\n",
    "\n",
    "if torch.cuda.is_available():\n",
    "    device = 0\n",
    "else:\n",
    "    device = -1"
   ]
  },
  {
   "cell_type": "markdown",
   "metadata": {},
   "source": [
    "### Credit\n",
    "\n",
    "The material in this section is borrowed from Masato Hagiwara's [Training a Sentiment Analyzer using AllenNLP (in less than 100 lines of Python code)](http://www.realworldnlpbook.com/blog/training-sentiment-analyzer-using-allennlp.html).  I have made some minor changes to the code and provided my own commentary; I recommend all of his blog posts and other writing highly. I am very much looking forward to the release of his book _Real-World Natural Language Processing_, to be published in 2019 by Manning.\n",
    "\n",
    "The dataset used in this example by Hagiwara, and hence by me, are provided by Stanford University's [Sentiment Analysis](https://nlp.stanford.edu/sentiment/index.html) research page.  This dataset was \n",
    "presented in the paper _Recursive Deep Models for Semantic Compositionality Over a Sentiment Treebank_ by Richard Socher, Alex Perelygin, Jean Wu, Jason Chuang, Christopher Manning, Andrew Ng and Christopher Potts.  The dataset is provided with this repository for convenience."
   ]
  },
  {
   "cell_type": "markdown",
   "metadata": {},
   "source": [
    "### Sentiment tree\n",
    "\n",
    "It is worthwhile to understand what the sentiment tree contains.  If we were only to assign sentiment values to single words, we would often miss the larger structure of overall sentence.  This of the famous saying popularly misattributed to Samual Johnson:\n",
    "\n",
    "> Your manuscript is both good and original, but the part that is good is not original and the part that is original is not good\n",
    "\n",
    "Every individual word in that has a positive or neutral sentiment, but overall it is a scalding criticism.  We can see whether our model identifies this example, but in general we want to look for larger phrases.\n",
    "\n",
    "The Stanford dataset tags arbitrarily long phrases as well as individual words.  It uses 5-levels of sentiment, but the reader could be parameterized to use 3-level or 2-level by simplification."
   ]
  },
  {
   "cell_type": "code",
   "execution_count": 3,
   "metadata": {},
   "outputs": [
    {
     "name": "stdout",
     "output_type": "stream",
     "text": [
      "Num samples: 8544\n",
      "Example:     (3 (2 ``) (3 (2 Frailty) (4 (2 '') (3 (4 (3 (2 has) (3 (2 been) (3 (4 (3 (3 written) (3 (2 so) (3 well))) (2 ,)) (2 (2 (2 that) (2 even)) (1 (2 (2 a) (2 simple)) (1 (2 ``) (0 Goddammit))))))) (2 !)) (2 '')))))\n",
      "Unadorned:   `` Frailty '' has been written so well , that even a simple `` Goddammit ! ''\n"
     ]
    }
   ],
   "source": [
    "import re\n",
    "training = open('data/stanford/train.txt').readlines()\n",
    "print(\"Num samples:\", len(training))\n",
    "samp = training[21].strip()\n",
    "print(\"Example:    \", samp)\n",
    "print(\"Unadorned:  \", \n",
    "      ' '.join(re.sub(r'[012345()]', '', samp).split()))"
   ]
  },
  {
   "cell_type": "code",
   "execution_count": 4,
   "metadata": {
    "scrolled": true
   },
   "outputs": [
    {
     "name": "stdout",
     "output_type": "stream",
     "text": [
      "Better speed can be achieved with apex installed from https://www.github.com/nvidia/apex.\n"
     ]
    }
   ],
   "source": [
    "# AllenNLP comes with a reader for this format \n",
    "from allennlp.data.dataset_readers import stanford_sentiment_tree_bank\n",
    "# The names for objects are rather long, use an abbrev for single use\n",
    "SSTBDR = stanford_sentiment_tree_bank.StanfordSentimentTreeBankDatasetReader\n",
    "reader = SSTBDR(granularity='5-class')\n",
    "\n",
    "with redirect_stderr(log):\n",
    "    train_dataset = reader.read('data/stanford/train.txt')\n",
    "    dev_dataset = reader.read('data/stanford/dev.txt')"
   ]
  },
  {
   "cell_type": "markdown",
   "metadata": {},
   "source": [
    "### Vocabulary\n",
    "\n",
    "We also need to encode the vocabulary of the training set as integers.  The `Vocabulary` class provides a numerous features for exactly how this is accomplished.  For example, below we disregard any words that occur fewer than two times."
   ]
  },
  {
   "cell_type": "code",
   "execution_count": 5,
   "metadata": {},
   "outputs": [
    {
     "name": "stderr",
     "output_type": "stream",
     "text": [
      "100%|██████████| 9645/9645 [00:00<00:00, 56856.71it/s]\n"
     ]
    }
   ],
   "source": [
    "from allennlp.data.vocabulary import Vocabulary\n",
    "vocab = Vocabulary.from_instances(train_dataset + dev_dataset,\n",
    "                                  min_count={'tokens': 2})"
   ]
  },
  {
   "cell_type": "code",
   "execution_count": 6,
   "metadata": {},
   "outputs": [
    {
     "data": {
      "text/plain": [
       "Vocabulary with namespaces:  tokens, Size: 9438 || labels, Size: 5 || Non Padded Namespaces: {'*labels', '*tags'}"
      ]
     },
     "execution_count": 6,
     "metadata": {},
     "output_type": "execute_result"
    }
   ],
   "source": [
    "vocab"
   ]
  },
  {
   "cell_type": "code",
   "execution_count": 7,
   "metadata": {
    "scrolled": true
   },
   "outputs": [
    {
     "name": "stdout",
     "output_type": "stream",
     "text": [
      "@@PADDING@@ | @@UNKNOWN@@ | . | , | the | and | of | a | to | 's | "
     ]
    }
   ],
   "source": [
    "for i in range(10):\n",
    "    print(vocab.get_token_from_index(i), end=' | ')"
   ]
  },
  {
   "cell_type": "markdown",
   "metadata": {},
   "source": [
    "### Embedding the vocabulary into tensors\n",
    "\n",
    "We need to represent words in the vocabulary as vectors/tensors into a much less dimensional space than, for example, a one-hot encoding of all the words in the vocabulary.  Each word is mapped to one vector.  Moreover, in this embedding, the transform learns to give words that are used in similar ways comparatively similar vectors, thereby capturing their similarity.\n",
    "\n",
    "An embedding layer is learned jointly with a neural network model "
   ]
  },
  {
   "cell_type": "code",
   "execution_count": 8,
   "metadata": {},
   "outputs": [],
   "source": [
    "from allennlp.modules.text_field_embedders import BasicTextFieldEmbedder\n",
    "from allennlp.modules.token_embedders import Embedding\n",
    "\n",
    "EMBEDDING_DIM = HIDDEN_DIM = 256\n",
    "\n",
    "token_embedding = Embedding(num_embeddings=vocab.get_vocab_size('tokens'),\n",
    "                            embedding_dim=EMBEDDING_DIM)\n",
    "\n",
    "# BasicTextFieldEmbedder for tokens, not for (unchanged) labels\n",
    "word_embeddings = BasicTextFieldEmbedder({\"tokens\": token_embedding})"
   ]
  },
  {
   "cell_type": "markdown",
   "metadata": {},
   "source": [
    "### Sentiment Model\n",
    "\n",
    "The model we create with AllenNLP is in many ways the same as we might with plain PyTorch.  But a number of things have been usefully abstracted for us as well.  This model is most useful using a recurrent neural network (such as LSTM) for its `encoder`, but it abstracts from the specific network type with the `Seq2VecEncoder` wrapper."
   ]
  },
  {
   "cell_type": "code",
   "execution_count": 9,
   "metadata": {},
   "outputs": [],
   "source": [
    "from typing import Dict   # AllenNLP makes wide use of type annotations\n",
    "import torch\n",
    "from allennlp.models import Model\n",
    "from allennlp.modules.text_field_embedders import TextFieldEmbedder\n",
    "from allennlp.nn.util import get_text_field_mask\n",
    "from allennlp.modules.seq2vec_encoders import Seq2VecEncoder\n",
    "from allennlp.training.metrics import CategoricalAccuracy, F1Measure\n",
    "\n",
    "class Classifier(Model):\n",
    "    def __init__(self,\n",
    "                 word_embeddings: TextFieldEmbedder,\n",
    "                 encoder: Seq2VecEncoder,\n",
    "                 vocab: Vocabulary,\n",
    "                 positive_label: int = 4) -> None:\n",
    "        super().__init__(vocab)\n",
    "        \n",
    "        # We need the embeddings to convert word IDs to their vector representations\n",
    "        self.word_embeddings = word_embeddings\n",
    "\n",
    "        # Seq2VecEncoder is a neural network abstraction that takes a sequence of something\n",
    "        # (usually a sequence of embedded word vectors), processes it, and returns it as a single\n",
    "        # vector. Oftentimes, this is an RNN-based architecture (e.g., LSTM or GRU), but\n",
    "        # AllenNLP also supports CNNs and other simple architectures (for example,\n",
    "        # just averaging over the input vectors).\n",
    "        self.encoder = encoder\n",
    "\n",
    "        # After converting a sequence of vectors to a single vector, we feed it into\n",
    "        # a fully-connected linear layer to reduce the dimension to the total number of labels.\n",
    "        self.hidden2tag = torch.nn.Linear(in_features=encoder.get_output_dim(),\n",
    "                                          out_features=vocab.get_vocab_size('labels'))\n",
    "        \n",
    "        # Monitor the metrics - we use accuracy, as well as prec, rec, f1 for 4 (very positive)\n",
    "        self.f1 = F1Measure(positive_label)        \n",
    "        self.accuracy = CategoricalAccuracy()\n",
    "\n",
    "        # We use the cross-entropy loss because this is a classification task.\n",
    "        # Note that PyTorch's CrossEntropyLoss combines softmax and log likelihood loss,\n",
    "        # which makes it unnecessary to add a separate softmax layer.\n",
    "        self.loss_function = torch.nn.CrossEntropyLoss()\n",
    "\n",
    "    # Instances are fed to forward after batching.\n",
    "    # Fields are passed through arguments with the same name.\n",
    "    def forward(self,\n",
    "                tokens: Dict[str, torch.Tensor],\n",
    "                label: torch.Tensor = None) -> torch.Tensor:\n",
    "        # In deep NLP, when sequences of tensors in different lengths are batched together,\n",
    "        # shorter sequences get padded with zeros to make them of equal length.\n",
    "        # Masking is the process to ignore extra zeros added by padding\n",
    "        mask = get_text_field_mask(tokens)\n",
    "\n",
    "        # Forward pass\n",
    "        embeddings = self.word_embeddings(tokens)\n",
    "        encoder_out = self.encoder(embeddings, mask)\n",
    "        logits = self.hidden2tag(encoder_out)\n",
    "\n",
    "        # Returned output dictionary must contain a \"loss\" key for your model\n",
    "        output = {\"logits\": logits}\n",
    "        if label is not None:\n",
    "            self.accuracy(logits, label)\n",
    "            self.f1(logits, label)\n",
    "            output[\"loss\"] = self.loss_function(logits, label)\n",
    "        return output    \n",
    "    \n",
    "    def get_metrics(self, reset: bool = False) -> Dict[str, float]:\n",
    "        # Could add more reporting, e.g.:\n",
    "        # precision, recall, f1 = self.f1.get_metric(reset)\n",
    "        # return {'precision': precision, 'recall': recall, 'f1': f1}\n",
    "        return {'accuracy': self.accuracy.get_metric(reset)}"
   ]
  },
  {
   "cell_type": "code",
   "execution_count": 10,
   "metadata": {},
   "outputs": [],
   "source": [
    "from allennlp.modules.seq2vec_encoders import PytorchSeq2VecWrapper\n",
    "\n",
    "lstm = PytorchSeq2VecWrapper(\n",
    "    torch.nn.LSTM(EMBEDDING_DIM, HIDDEN_DIM, batch_first=True))\n",
    "\n",
    "model = Classifier(word_embeddings, lstm, vocab)\n",
    "model = model.cuda(device)"
   ]
  },
  {
   "cell_type": "code",
   "execution_count": 11,
   "metadata": {},
   "outputs": [
    {
     "name": "stderr",
     "output_type": "stream",
     "text": [
      "accuracy: 0.2708, loss: 1.5766 ||: 100%|██████████| 267/267 [00:02<00:00, 107.37it/s]\n",
      "accuracy: 0.2552, loss: 1.5731 ||: 100%|██████████| 35/35 [00:00<00:00, 187.93it/s]\n",
      "accuracy: 0.2757, loss: 1.5617 ||: 100%|██████████| 267/267 [00:01<00:00, 146.13it/s]\n",
      "accuracy: 0.2552, loss: 1.5690 ||: 100%|██████████| 35/35 [00:00<00:00, 223.40it/s]\n",
      "accuracy: 0.2899, loss: 1.5242 ||: 100%|██████████| 267/267 [00:02<00:00, 114.09it/s]\n",
      "accuracy: 0.2916, loss: 1.5493 ||: 100%|██████████| 35/35 [00:00<00:00, 232.37it/s]\n",
      "accuracy: 0.3897, loss: 1.3968 ||: 100%|██████████| 267/267 [00:02<00:00, 132.53it/s]\n",
      "accuracy: 0.3415, loss: 1.5359 ||: 100%|██████████| 35/35 [00:00<00:00, 207.74it/s]\n",
      "accuracy: 0.5080, loss: 1.1996 ||: 100%|██████████| 267/267 [00:02<00:00, 150.01it/s]\n",
      "accuracy: 0.3660, loss: 1.5173 ||: 100%|██████████| 35/35 [00:00<00:00, 262.53it/s]\n",
      "accuracy: 0.6071, loss: 0.9826 ||: 100%|██████████| 267/267 [00:01<00:00, 140.22it/s]\n",
      "accuracy: 0.3715, loss: 1.5606 ||: 100%|██████████| 35/35 [00:00<00:00, 261.71it/s]\n",
      "accuracy: 0.6699, loss: 0.8126 ||: 100%|██████████| 267/267 [00:01<00:00, 147.59it/s]\n",
      "accuracy: 0.3569, loss: 1.6812 ||: 100%|██████████| 35/35 [00:00<00:00, 262.21it/s]\n",
      "accuracy: 0.7225, loss: 0.6881 ||: 100%|██████████| 267/267 [00:02<00:00, 117.18it/s]\n",
      "accuracy: 0.3470, loss: 1.9553 ||: 100%|██████████| 35/35 [00:00<00:00, 205.38it/s]\n",
      "accuracy: 0.7695, loss: 0.5920 ||: 100%|██████████| 267/267 [00:02<00:00, 128.68it/s]\n",
      "accuracy: 0.3488, loss: 2.1247 ||: 100%|██████████| 35/35 [00:00<00:00, 180.64it/s]\n",
      "accuracy: 0.8024, loss: 0.5085 ||: 100%|██████████| 267/267 [00:02<00:00, 125.62it/s]\n",
      "accuracy: 0.3451, loss: 2.3860 ||: 100%|██████████| 35/35 [00:00<00:00, 260.46it/s]\n",
      "accuracy: 0.8358, loss: 0.4448 ||: 100%|██████████| 267/267 [00:01<00:00, 136.04it/s]\n",
      "accuracy: 0.3351, loss: 2.7006 ||: 100%|██████████| 35/35 [00:00<00:00, 258.57it/s]\n",
      "accuracy: 0.8615, loss: 0.3872 ||: 100%|██████████| 267/267 [00:02<00:00, 110.52it/s]\n",
      "accuracy: 0.3324, loss: 2.7410 ||: 100%|██████████| 35/35 [00:00<00:00, 230.29it/s]\n",
      "accuracy: 0.8847, loss: 0.3379 ||: 100%|██████████| 267/267 [00:02<00:00, 108.84it/s]\n",
      "accuracy: 0.3243, loss: 3.0226 ||: 100%|██████████| 35/35 [00:00<00:00, 230.70it/s]\n",
      "accuracy: 0.9005, loss: 0.2895 ||: 100%|██████████| 267/267 [00:02<00:00, 117.45it/s]\n",
      "accuracy: 0.3179, loss: 3.4437 ||: 100%|██████████| 35/35 [00:00<00:00, 259.80it/s]\n",
      "accuracy: 0.9141, loss: 0.2576 ||: 100%|██████████| 267/267 [00:02<00:00, 121.52it/s]\n",
      "accuracy: 0.3143, loss: 3.5810 ||: 100%|██████████| 35/35 [00:00<00:00, 204.91it/s]\n"
     ]
    },
    {
     "data": {
      "text/plain": [
       "{'best_epoch': 4,\n",
       " 'peak_cpu_memory_MB': 2989.528,\n",
       " 'peak_gpu_0_memory_MB': 900,\n",
       " 'training_duration': '00:00:34',\n",
       " 'training_start_epoch': 0,\n",
       " 'training_epochs': 13,\n",
       " 'epoch': 13,\n",
       " 'training_accuracy': 0.9005149812734082,\n",
       " 'training_loss': 0.28951838693480364,\n",
       " 'training_cpu_memory_MB': 2989.528,\n",
       " 'training_gpu_0_memory_MB': 900,\n",
       " 'validation_accuracy': 0.3178928247048138,\n",
       " 'validation_loss': 3.4437111752373832,\n",
       " 'best_validation_accuracy': 0.36603088101725706,\n",
       " 'best_validation_loss': 1.5173429216657366}"
      ]
     },
     "execution_count": 11,
     "metadata": {},
     "output_type": "execute_result"
    }
   ],
   "source": [
    "import torch.optim as optim\n",
    "from allennlp.data.iterators import BucketIterator\n",
    "from allennlp.training.trainer import Trainer\n",
    "\n",
    "optimizer = optim.Adam(model.parameters(), lr=1e-4, weight_decay=1e-5)\n",
    "\n",
    "iterator = BucketIterator(batch_size=32, sorting_keys=[(\"tokens\", \"num_tokens\")])\n",
    "iterator.index_with(vocab)\n",
    "\n",
    "trainer = Trainer(model=model,\n",
    "                  optimizer=optimizer,\n",
    "                  iterator=iterator,\n",
    "                  train_dataset=train_dataset,\n",
    "                  validation_dataset=dev_dataset,\n",
    "                  patience=10,\n",
    "                  num_epochs=40,\n",
    "                  cuda_device=device)\n",
    "\n",
    "trainer.train()"
   ]
  },
  {
   "cell_type": "markdown",
   "metadata": {},
   "source": [
    "### Making predictions\n",
    "\n",
    "It is straightfoward to make predictions once we have a trained model.  We need to wrap the model itself in an actual predictor, such as the one [provided by Dr. Hagiwara](https://github.com/mhagiwara/realworldnlp) named `SentenceClassifierPredictor`.  But making a prediction follows the somewhat more intuitive scikit-learn style of calling a `.predict()` method rather than the `pytorch.nn` style of calling the model itself. \n",
    "\n",
    "I find it interesting that the classification chosen is not always strongly univocal from the model, and in some cases two far apart options are of similar preference.  In the ideal case, one logit value would be strongly greater than all others, but that is not always the case. I.e. possibly slightly more training data or slightly different parameters might tip the scale between very different predictions."
   ]
  },
  {
   "cell_type": "code",
   "execution_count": 12,
   "metadata": {},
   "outputs": [
    {
     "name": "stdout",
     "output_type": "stream",
     "text": [
      "  2.7 Very positive   | This is the best movie ever! \n",
      "  0.4 Very negative\n",
      "\n",
      "  3.3 Very negative   | This is the worst movie ever! \n",
      "  0.1 Neutral\n",
      "\n",
      "  5.8 Very positive   | The part that is good is not original, the part that is original is not good. \n",
      "  1.3 Mildly positive\n",
      "\n",
      "  5.6 Mildly positive | A day that will live in infamy. \n",
      "  1.5 Neutral\n",
      "\n",
      "  3.4 Neutral         | When one burns one's bridges, what a very nice fire it makes. \n",
      "  1.1 Mildly negative\n",
      "\n",
      "  5.3 Very positive   | You will contract a rare disease. \n",
      "  1.0 Mildly positive\n",
      "\n",
      "  4.4 Mildly negative | The only people for me are the mad one. \n",
      "  2.9 Neutral\n",
      "\n",
      "  2.1 Neutral         | Never give an inch! \n",
      "  1.8 Mildly positive\n",
      "\n",
      "  6.0 Very negative   | This movie was actually neither that funny, nor super witty. \n",
      "  3.9 Very positive\n",
      "\n"
     ]
    }
   ],
   "source": [
    "import numpy as np\n",
    "from src.predictors import SentenceClassifierPredictor\n",
    "\n",
    "sentiments = {'0': \"Very negative\",\n",
    "              '1': \"Mildly negative\",\n",
    "              '2': \"Neutral\",\n",
    "              '3': \"Mildly positive\",\n",
    "              '4': \"Very positive\"}\n",
    "\n",
    "phrases = [\"This is the best movie ever!\",\n",
    "           \"This is the worst movie ever!\",\n",
    "           \"The part that is good is not original, the part that is original is not good.\",\n",
    "           \"A day that will live in infamy.\",\n",
    "           \"When one burns one's bridges, what a very nice fire it makes.\",\n",
    "           \"You will contract a rare disease.\",\n",
    "           \"The only people for me are the mad one.\",\n",
    "           \"Never give an inch!\",\n",
    "           \"This movie was actually neither that funny, nor super witty.\",\n",
    "          ]\n",
    "        \n",
    "for phrase in phrases:\n",
    "    predictor = SentenceClassifierPredictor(model, dataset_reader=reader)\n",
    "    logits = predictor.predict(phrase)['logits']\n",
    "    ranking = np.argsort(logits)\n",
    "    first = ranking[-1]\n",
    "    second = ranking[-2]\n",
    "\n",
    "    sentiment = model.vocab.get_token_from_index(first, 'labels')\n",
    "    sentiment2 = model.vocab.get_token_from_index(second, 'labels')\n",
    "    print(f'{logits[first]:5.1f} {sentiments[sentiment]:15s} | {phrase}',\n",
    "          f'\\n{logits[second]:5.1f} {sentiments[sentiment2]}\\n')"
   ]
  },
  {
   "cell_type": "markdown",
   "metadata": {},
   "source": [
    "### Adjusting the network\n",
    "\n",
    "We can experiment with other network details easily enough using the scaffolding we have already created.  For example, perhaps we speeculate that a gated recurrent unit (GRU) will work better for the recurrent layer than a multi-layer long short-term memory (LSTM).  Moreover, we also want to try using RMSprop rather than Adam for the optimizer.  Plus we decrease the `patience` to cause a faster step-down in the learning rate.\n",
    "\n",
    "These particular changes are not particularly theory based (but they are not absurd either); the example here is simply to show how we can easily vary those design details."
   ]
  },
  {
   "cell_type": "code",
   "execution_count": 13,
   "metadata": {
    "scrolled": false
   },
   "outputs": [
    {
     "name": "stderr",
     "output_type": "stream",
     "text": [
      "accuracy: 0.2514, loss: 1.6065 ||: 100%|██████████| 267/267 [00:01<00:00, 152.49it/s]\n",
      "accuracy: 0.2625, loss: 1.6050 ||: 100%|██████████| 35/35 [00:00<00:00, 261.42it/s]\n",
      "accuracy: 0.2611, loss: 1.6009 ||: 100%|██████████| 267/267 [00:02<00:00, 120.87it/s]\n",
      "accuracy: 0.2634, loss: 1.6014 ||: 100%|██████████| 35/35 [00:00<00:00, 268.09it/s]\n",
      "accuracy: 0.2614, loss: 1.5961 ||: 100%|██████████| 267/267 [00:02<00:00, 131.71it/s]\n",
      "accuracy: 0.2634, loss: 1.5979 ||: 100%|██████████| 35/35 [00:00<00:00, 265.93it/s]\n",
      "accuracy: 0.2616, loss: 1.5918 ||: 100%|██████████| 267/267 [00:02<00:00, 114.17it/s]\n",
      "accuracy: 0.2634, loss: 1.5947 ||: 100%|██████████| 35/35 [00:00<00:00, 231.36it/s]\n",
      "accuracy: 0.2617, loss: 1.5878 ||: 100%|██████████| 267/267 [00:02<00:00, 126.02it/s]\n",
      "accuracy: 0.2634, loss: 1.5914 ||: 100%|██████████| 35/35 [00:00<00:00, 259.88it/s]\n",
      "accuracy: 0.2625, loss: 1.5841 ||: 100%|██████████| 267/267 [00:02<00:00, 121.07it/s]\n",
      "accuracy: 0.2625, loss: 1.5889 ||: 100%|██████████| 35/35 [00:00<00:00, 224.50it/s]\n",
      "accuracy: 0.2704, loss: 1.5807 ||: 100%|██████████| 267/267 [00:02<00:00, 117.64it/s]\n",
      "accuracy: 0.2725, loss: 1.5869 ||: 100%|██████████| 35/35 [00:00<00:00, 231.44it/s]\n",
      "accuracy: 0.2948, loss: 1.5776 ||: 100%|██████████| 267/267 [00:02<00:00, 123.89it/s]\n",
      "accuracy: 0.2816, loss: 1.5849 ||: 100%|██████████| 35/35 [00:00<00:00, 222.83it/s]\n",
      "accuracy: 0.3205, loss: 1.5747 ||: 100%|██████████| 267/267 [00:02<00:00, 109.59it/s]\n",
      "accuracy: 0.2906, loss: 1.5829 ||: 100%|██████████| 35/35 [00:00<00:00, 226.93it/s]\n",
      "accuracy: 0.3516, loss: 1.5720 ||: 100%|██████████| 267/267 [00:02<00:00, 123.62it/s]\n",
      "accuracy: 0.2934, loss: 1.5811 ||: 100%|██████████| 35/35 [00:00<00:00, 257.43it/s]\n",
      "accuracy: 0.3749, loss: 1.5695 ||: 100%|██████████| 267/267 [00:01<00:00, 137.42it/s]\n",
      "accuracy: 0.2979, loss: 1.5800 ||: 100%|██████████| 35/35 [00:00<00:00, 229.21it/s]\n",
      "accuracy: 0.3867, loss: 1.5671 ||: 100%|██████████| 267/267 [00:02<00:00, 121.95it/s]\n",
      "accuracy: 0.3079, loss: 1.5777 ||: 100%|██████████| 35/35 [00:00<00:00, 236.69it/s]\n",
      "accuracy: 0.3915, loss: 1.5650 ||: 100%|██████████| 267/267 [00:01<00:00, 140.22it/s]\n",
      "accuracy: 0.3088, loss: 1.5770 ||: 100%|██████████| 35/35 [00:00<00:00, 221.69it/s]\n",
      "accuracy: 0.3964, loss: 1.5630 ||: 100%|██████████| 267/267 [00:02<00:00, 123.87it/s]\n",
      "accuracy: 0.3115, loss: 1.5751 ||: 100%|██████████| 35/35 [00:00<00:00, 226.02it/s]\n",
      "accuracy: 0.3969, loss: 1.5611 ||: 100%|██████████| 267/267 [00:02<00:00, 124.74it/s]\n",
      "accuracy: 0.3043, loss: 1.5749 ||: 100%|██████████| 35/35 [00:00<00:00, 226.96it/s]\n",
      "accuracy: 0.3974, loss: 1.5594 ||: 100%|██████████| 267/267 [00:02<00:00, 117.50it/s]\n",
      "accuracy: 0.3052, loss: 1.5732 ||: 100%|██████████| 35/35 [00:00<00:00, 228.63it/s]\n",
      "accuracy: 0.3972, loss: 1.5577 ||: 100%|██████████| 267/267 [00:02<00:00, 124.32it/s]\n",
      "accuracy: 0.3025, loss: 1.5726 ||: 100%|██████████| 35/35 [00:00<00:00, 245.56it/s]\n",
      "accuracy: 0.3934, loss: 1.5562 ||: 100%|██████████| 267/267 [00:02<00:00, 117.01it/s]\n",
      "accuracy: 0.3052, loss: 1.5719 ||: 100%|██████████| 35/35 [00:00<00:00, 224.27it/s]\n",
      "accuracy: 0.3929, loss: 1.5548 ||: 100%|██████████| 267/267 [00:02<00:00, 116.28it/s]\n",
      "accuracy: 0.3025, loss: 1.5706 ||: 100%|██████████| 35/35 [00:00<00:00, 226.29it/s]\n",
      "accuracy: 0.3928, loss: 1.5534 ||: 100%|██████████| 267/267 [00:02<00:00, 132.27it/s]\n",
      "accuracy: 0.3015, loss: 1.5690 ||: 100%|██████████| 35/35 [00:00<00:00, 224.34it/s]\n"
     ]
    },
    {
     "data": {
      "text/plain": [
       "{'best_epoch': 19,\n",
       " 'peak_cpu_memory_MB': 3019.44,\n",
       " 'peak_gpu_0_memory_MB': 922,\n",
       " 'training_duration': '00:00:49',\n",
       " 'training_start_epoch': 0,\n",
       " 'training_epochs': 19,\n",
       " 'epoch': 19,\n",
       " 'training_accuracy': 0.39279026217228463,\n",
       " 'training_loss': 1.5534012362305145,\n",
       " 'training_cpu_memory_MB': 3019.44,\n",
       " 'training_gpu_0_memory_MB': 922,\n",
       " 'validation_accuracy': 0.30154405086285196,\n",
       " 'validation_loss': 1.569025080544608,\n",
       " 'best_validation_accuracy': 0.30154405086285196,\n",
       " 'best_validation_loss': 1.569025080544608}"
      ]
     },
     "execution_count": 13,
     "metadata": {},
     "output_type": "execute_result"
    }
   ],
   "source": [
    "# Different optimizer\n",
    "optimizer = optim.RMSprop(model.parameters(), lr=1e-4, weight_decay=1e-5)\n",
    "\n",
    "# Different RNN layer\n",
    "gru = PytorchSeq2VecWrapper(\n",
    "    torch.nn.GRU(EMBEDDING_DIM, HIDDEN_DIM, batch_first=True))\n",
    "\n",
    "model = Classifier(word_embeddings, gru, vocab).cuda(device)\n",
    "\n",
    "# Different patience for LR decay\n",
    "trainer = Trainer(model=model,\n",
    "                  optimizer=optimizer,\n",
    "                  iterator=iterator,\n",
    "                  train_dataset=train_dataset,\n",
    "                  validation_dataset=dev_dataset,\n",
    "                  patience=5,\n",
    "                  num_epochs=20,\n",
    "                  cuda_device=device)\n",
    "\n",
    "trainer.train()"
   ]
  },
  {
   "cell_type": "markdown",
   "metadata": {},
   "source": [
    "## Next Lesson\n",
    "\n",
    "**Enhancing an Image Classifier**: Libraries built on top of PyTorch offer very powerful tools for natural language processing.  Next we will return to image classification, and build on pretrained models as a demonstration of re-use neural networks.\n",
    "\n",
    "<a href=\"ImageClassifier.ipynb\"><img src=\"img/open-notebook.png\" align=\"left\"/></a>"
   ]
  }
 ],
 "metadata": {
  "kernelspec": {
   "display_name": "Python 3",
   "language": "python",
   "name": "python3"
  },
  "language_info": {
   "codemirror_mode": {
    "name": "ipython",
    "version": 3
   },
   "file_extension": ".py",
   "mimetype": "text/x-python",
   "name": "python",
   "nbconvert_exporter": "python",
   "pygments_lexer": "ipython3",
   "version": "3.7.1"
  }
 },
 "nbformat": 4,
 "nbformat_minor": 2
}
