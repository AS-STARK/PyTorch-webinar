{
 "cells": [
  {
   "cell_type": "markdown",
   "metadata": {},
   "source": [
    "# Machine Learning with PyTorch"
   ]
  },
  {
   "cell_type": "markdown",
   "metadata": {},
   "source": [
    "## Tasks with Networks"
   ]
  },
  {
   "cell_type": "markdown",
   "metadata": {},
   "source": [
    "<font size=\"+1\">A simple feature classifier</font>\n",
    "<a href=\"NetworkExamples_0.ipynb\"><img src=\"img/open-notebook.png\" align=\"right\"/></a>\n",
    "\n",
    "<font size=\"+1\">An image classifier</font>\n",
    "<a href=\"NetworkExamples_1.ipynb\"><img src=\"img/open-notebook.png\" align=\"right\"/></a>\n",
    "\n",
    "<font size=\"+1\">A regression prediction</font>\n",
    "<a href=\"NetworkExamples_2.ipynb\"><img src=\"img/open-notebook.png\" align=\"right\"/></a>\n",
    "\n",
    "<font size=\"+1\"><u><b>Clustering with PyTorch</b></u></font>\n",
    "<a href=\"NetworkExamples_3.ipynb\"><img src=\"img/open-notebook.png\" align=\"right\"/></a>\n",
    "\n",
    "<font size=\"+1\">Generative Adversarial Networks (GAN)</font> \n",
    "<a href=\"NetworkExamples_4.ipynb\"><img src=\"img/open-notebook.png\" align=\"right\"/></a>\n",
    "\n",
    "<font size=\"+1\">Reinforcement Learning</font>\n",
    "<a href=\"NetworkExamples_5.ipynb\"><img src=\"img/open-notebook.png\" align=\"right\"/></a>"
   ]
  },
  {
   "cell_type": "code",
   "execution_count": 38,
   "metadata": {},
   "outputs": [],
   "source": [
    "from collections import namedtuple\n",
    "import math\n",
    "import numpy as np\n",
    "import torch"
   ]
  },
  {
   "cell_type": "markdown",
   "metadata": {},
   "source": [
    "## Clustering with PyTorch\n",
    "\n",
    "We can implement the [K-means clustering algorithm](https://en.wikipedia.org/wiki/K-means_clustering) using PyTorch tensor arithmetic fairly easily.  Unlike other examples in this section, we do not utilize the `torch.nn` subpackage, and the calculation is not really a neural network.  Nonetheless, this kind of technique is common in machine learning, and is interesting to present here.\n",
    "\n",
    "Note that the technique given here **does not** guarantee convergence to a global optimum.  Choosing different initial points could quite possibly cause convergence to different centroids.  However, this approach is computationally tractable, while the global solution is NP-hard."
   ]
  },
  {
   "cell_type": "code",
   "execution_count": null,
   "metadata": {},
   "outputs": [],
   "source": [
    "def pairwise_distance(tensor1, tensor2=None, device=None):\n",
    "    \"\"\"Calculate pairwise Euclidian distance between tensors\n",
    "    \n",
    "    The input data are N*M tensors.  If the second tensor is omitted, we measure\n",
    "    self-distance of the first tensor. We calculate distance by:\n",
    "    \n",
    "    1. expand the N*M tensors into N*1*M and 1*N*M tensors\n",
    "    2. Perform a pairwise distance calculation\n",
    "    \"\"\"\n",
    "    # If second not given, calculate self-distance\n",
    "    tensor2 = tensor2 if tensor2 is not None else tensor1\n",
    "    A = tensor1.unsqueeze(dim=1)  # N x 1 x M\n",
    "    B = tensor2.unsqueeze(dim=0)  # 1 x N x M\n",
    "\n",
    "\n",
    "    # Our N*N tensor for pairwise distance\n",
    "    distances = (A-B)**2.0\n",
    "    distances = torch.sqrt(distances.sum(dim=-1).squeeze())\n",
    "    return distances"
   ]
  },
  {
   "cell_type": "code",
   "execution_count": 30,
   "metadata": {},
   "outputs": [],
   "source": [
    "def distance_3d(a, b):\n",
    "    \"For comparison, a single distance calculation\"\n",
    "    return math.sqrt((a.x-b.x)**2 + (a.y-b.y)**2 + (a.z-b.z)**2)"
   ]
  },
  {
   "cell_type": "code",
   "execution_count": 36,
   "metadata": {},
   "outputs": [
    {
     "name": "stdout",
     "output_type": "stream",
     "text": [
      "A points: Point3D(x=1, y=2, z=3) Point3D(x=4, y=5, z=6)\n",
      "B points: Point3D(x=11, y=12, z=13) Point3D(x=14, y=15, z=16)\n",
      "From a1: 17.320508075688775 22.516660498395403\n",
      "From a2: 12.12435565298214 17.320508075688775\n"
     ]
    }
   ],
   "source": [
    "Point3D = namedtuple('Point3D', 'x y z')\n",
    "a1, a2 = Point3D(1, 2, 3), Point3D(4, 5, 6)\n",
    "b1, b2 = Point3D(11, 12, 13), Point3D(14, 15, 16)\n",
    "\n",
    "print(\"A points:\", a1, a2)\n",
    "print(\"B points:\", b1, b2)\n",
    "print(\"From a1:\", distance_3d(a1, b1), distance_3d(a1, b2))\n",
    "print(\"From a2:\", distance_3d(a2, b1), distance_3d(a2, b2))\n"
   ]
  },
  {
   "cell_type": "code",
   "execution_count": 37,
   "metadata": {},
   "outputs": [
    {
     "data": {
      "text/plain": [
       "tensor([[17.3205, 22.5167],\n",
       "        [12.1244, 17.3205]])"
      ]
     },
     "execution_count": 37,
     "metadata": {},
     "output_type": "execute_result"
    }
   ],
   "source": [
    "A = torch.Tensor([a1, a2])\n",
    "B = torch.Tensor([b1, b2])\n",
    "\n",
    "pairwise_distance(A, B)"
   ]
  },
  {
   "cell_type": "code",
   "execution_count": 39,
   "metadata": {},
   "outputs": [],
   "source": [
    "def initial_points(X, n):\n",
    "    \"\"\"Given a tensor of observations select initial points for centroids\n",
    "    \n",
    "    This is the Forgy algorithm that simply chooses initial points from the data.\n",
    "    Other techniques include Random Partition, Maximin, and Bradley & Fayyad    \n",
    "    \"\"\"\n",
    "    indices = np.random.choice(len(X), n)\n",
    "    return X[indices]"
   ]
  },
  {
   "cell_type": "code",
   "execution_count": 41,
   "metadata": {},
   "outputs": [],
   "source": [
    "def kmeans(X, n_clusters, tol=1e-4):\n",
    "    \"The K-means clustering algorithm, speficially Lloyd's algorithm\"\n",
    "    centroids = initial_points(X, n_clusters)\n",
    "    \n",
    "    # Avoid repeatedly squaring the tensor elements\n",
    "    sqrt_tol = math.sqrt(tol)\n",
    "    \n",
    "    # Repeatedly adjust centroids until <tol change between each move\n",
    "    while True:\n",
    "        distances = pairwise_distance(X, centroids)\n",
    "        clusters = torch.argmin(distances, dim=1)\n",
    "        centroids_pre = centroids.clone()\n",
    "\n",
    "        for ndx in range(n_clusters):\n",
    "            selected = torch.nonzero(clusters==ndx).squeeze()\n",
    "            selected = torch.index_select(X, 0, selected)\n",
    "            centroids[index] = selected.mean(dim=0)\n",
    "\n",
    "        shift = torch.sum(torch.sqrt(torch.sum((centroids-centroids_pre)**2, dim=1)))\n",
    "\n",
    "        if shift < sqrt_tol:\n",
    "            break\n",
    "\n",
    "    return clusters.cpu().numpy(), centroids.cpu().numpy()"
   ]
  },
  {
   "cell_type": "code",
   "execution_count": 42,
   "metadata": {},
   "outputs": [
    {
     "ename": "ModuleNotFoundError",
     "evalue": "No module named 'src.over_under_fit'",
     "output_type": "error",
     "traceback": [
      "\u001b[0;31m\u001b[0m",
      "\u001b[0;31mModuleNotFoundError\u001b[0mTraceback (most recent call last)",
      "\u001b[0;32m<ipython-input-42-80f30435fbf0>\u001b[0m in \u001b[0;36m<module>\u001b[0;34m\u001b[0m\n\u001b[0;32m----> 1\u001b[0;31m \u001b[0;32mfrom\u001b[0m \u001b[0msrc\u001b[0m\u001b[0;34m.\u001b[0m\u001b[0mover_under_fit\u001b[0m \u001b[0;32mimport\u001b[0m \u001b[0mcluster\u001b[0m\u001b[0;34m\u001b[0m\u001b[0;34m\u001b[0m\u001b[0m\n\u001b[0m\u001b[1;32m      2\u001b[0m \u001b[0mcluster\u001b[0m\u001b[0;34m(\u001b[0m\u001b[0;36m4\u001b[0m\u001b[0;34m)\u001b[0m\u001b[0;34m\u001b[0m\u001b[0;34m\u001b[0m\u001b[0m\n",
      "\u001b[0;31mModuleNotFoundError\u001b[0m: No module named 'src.over_under_fit'"
     ]
    }
   ],
   "source": [
    "from src.over_under_fit import cluster\n",
    "cluster(4)"
   ]
  },
  {
   "cell_type": "markdown",
   "metadata": {},
   "source": [
    "## Next Lesson\n",
    "\n",
    "**Tasks with Networks**: This lesson constructed a clustering algorithm, KMeans, using the basic tensor math in PyTorch.  The next lesson will look at Generative Adversarial Networks.\n",
    "\n",
    "<a href=\"NetworkExamples_4.ipynb\"><img src=\"img/open-notebook.png\" align=\"left\"/></a>"
   ]
  }
 ],
 "metadata": {
  "kernelspec": {
   "display_name": "Python 3",
   "language": "python",
   "name": "python3"
  },
  "language_info": {
   "codemirror_mode": {
    "name": "ipython",
    "version": 3
   },
   "file_extension": ".py",
   "mimetype": "text/x-python",
   "name": "python",
   "nbconvert_exporter": "python",
   "pygments_lexer": "ipython3",
   "version": "3.7.1"
  }
 },
 "nbformat": 4,
 "nbformat_minor": 2
}
