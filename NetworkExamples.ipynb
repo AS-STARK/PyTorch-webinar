{
 "cells": [
  {
   "cell_type": "markdown",
   "metadata": {},
   "source": [
    "# Machine Learning with PyTorch"
   ]
  },
  {
   "cell_type": "markdown",
   "metadata": {},
   "source": [
    "## Tasks with Networks\n",
    "\n",
    "* An image classifier\n",
    "* A regression prediction\n",
    "* Clustering with NNs (note: https://github.com/MarcTLaw/DeepSpectralClusteringToy)\n",
    "* Generative Adversarial Networks (GAN)\n",
    "* Reinforcement Learning"
   ]
  },
  {
   "cell_type": "code",
   "execution_count": 1,
   "metadata": {},
   "outputs": [
    {
     "data": {
      "text/plain": [
       "0"
      ]
     },
     "execution_count": 1,
     "metadata": {},
     "output_type": "execute_result"
    }
   ],
   "source": [
    "%matplotlib inline\n",
    "\n",
    "from sklearn.model_selection import train_test_split\n",
    "import numpy as np\n",
    "import matplotlib.pyplot as plt\n",
    "import pandas as pd\n",
    "import torch\n",
    "\n",
    "# For demonstration, we can use CPU target if CUDA not available\n",
    "device = torch.device('cpu')\n",
    "# Uncomment this to run on GPU\n",
    "device = torch.device('cuda') \n",
    "\n",
    "torch.cuda.memory_allocated()"
   ]
  },
  {
   "cell_type": "markdown",
   "metadata": {},
   "source": [
    "## Next Lesson\n",
    "\n",
    "**Intermediate Machine Learning with PyTorch**: This last lesson of the Beginning material covered several real world neural networks.  For a deeper dive into some specialize areas, come back for a future webinar session on Intermidiate material."
   ]
  },
  {
   "cell_type": "code",
   "execution_count": 2,
   "metadata": {},
   "outputs": [
    {
     "name": "stdout",
     "output_type": "stream",
     "text": [
      "243570\n"
     ]
    },
    {
     "data": {
      "text/html": [
       "<div>\n",
       "<style scoped>\n",
       "    .dataframe tbody tr th:only-of-type {\n",
       "        vertical-align: middle;\n",
       "    }\n",
       "\n",
       "    .dataframe tbody tr th {\n",
       "        vertical-align: top;\n",
       "    }\n",
       "\n",
       "    .dataframe thead th {\n",
       "        text-align: right;\n",
       "    }\n",
       "</style>\n",
       "<table border=\"1\" class=\"dataframe\">\n",
       "  <thead>\n",
       "    <tr style=\"text-align: right;\">\n",
       "      <th></th>\n",
       "      <th>age</th>\n",
       "      <th>bra_size_chest</th>\n",
       "      <th>bra_size_cup</th>\n",
       "      <th>height</th>\n",
       "      <th>shoe_size</th>\n",
       "      <th>weight</th>\n",
       "      <th>TARGET</th>\n",
       "    </tr>\n",
       "  </thead>\n",
       "  <tbody>\n",
       "    <tr>\n",
       "      <th>0</th>\n",
       "      <td>30.0</td>\n",
       "      <td>34.0</td>\n",
       "      <td>5.0</td>\n",
       "      <td>62.0</td>\n",
       "      <td>7.0</td>\n",
       "      <td>128.0</td>\n",
       "      <td>6</td>\n",
       "    </tr>\n",
       "    <tr>\n",
       "      <th>1</th>\n",
       "      <td>20.0</td>\n",
       "      <td>34.0</td>\n",
       "      <td>3.0</td>\n",
       "      <td>64.0</td>\n",
       "      <td>8.0</td>\n",
       "      <td>145.0</td>\n",
       "      <td>6</td>\n",
       "    </tr>\n",
       "    <tr>\n",
       "      <th>2</th>\n",
       "      <td>26.0</td>\n",
       "      <td>32.0</td>\n",
       "      <td>4.0</td>\n",
       "      <td>64.0</td>\n",
       "      <td>8.0</td>\n",
       "      <td>148.0</td>\n",
       "      <td>6</td>\n",
       "    </tr>\n",
       "    <tr>\n",
       "      <th>3</th>\n",
       "      <td>43.0</td>\n",
       "      <td>34.0</td>\n",
       "      <td>5.0</td>\n",
       "      <td>61.0</td>\n",
       "      <td>7.0</td>\n",
       "      <td>145.0</td>\n",
       "      <td>6</td>\n",
       "    </tr>\n",
       "    <tr>\n",
       "      <th>4</th>\n",
       "      <td>63.0</td>\n",
       "      <td>38.0</td>\n",
       "      <td>3.0</td>\n",
       "      <td>63.0</td>\n",
       "      <td>8.0</td>\n",
       "      <td>130.0</td>\n",
       "      <td>6</td>\n",
       "    </tr>\n",
       "  </tbody>\n",
       "</table>\n",
       "</div>"
      ],
      "text/plain": [
       "    age  bra_size_chest  bra_size_cup  height  shoe_size  weight TARGET\n",
       "0  30.0            34.0           5.0    62.0        7.0   128.0      6\n",
       "1  20.0            34.0           3.0    64.0        8.0   145.0      6\n",
       "2  26.0            32.0           4.0    64.0        8.0   148.0      6\n",
       "3  43.0            34.0           5.0    61.0        7.0   145.0      6\n",
       "4  63.0            38.0           3.0    63.0        8.0   130.0      6"
      ]
     },
     "execution_count": 2,
     "metadata": {},
     "output_type": "execute_result"
    }
   ],
   "source": [
    "df = pd.read_csv('data/garments.csv.gz', dtype={'TARGET':str})\n",
    "print(len(df))\n",
    "df.head()"
   ]
  },
  {
   "cell_type": "code",
   "execution_count": 3,
   "metadata": {},
   "outputs": [
    {
     "data": {
      "text/plain": [
       "['00', '0', '2', '4', '6', '8', '10', '12', '14', '16', '18']"
      ]
     },
     "execution_count": 3,
     "metadata": {},
     "output_type": "execute_result"
    }
   ],
   "source": [
    "X = df[['age', 'bra_size_chest', 'bra_size_cup', 'height', 'shoe_size', 'weight']]\n",
    "\n",
    "# One-hot encoding\n",
    "df_one_hot = pd.get_dummies(df)\n",
    "Y = df_one_hot[[col for col in df_one_hot.columns if col.startswith('TARGET')]]\n",
    "\n",
    "# Nicer order for columns (sorted by size not lexicographically)\n",
    "Y.columns = [col.replace('TARGET_', '') for col in Y.columns] \n",
    "Y = Y['00 0 2 4 6 8 10 12 14 16 18'.split()]\n",
    "labels = list(Y.columns)\n",
    "labels"
   ]
  },
  {
   "cell_type": "code",
   "execution_count": 4,
   "metadata": {},
   "outputs": [],
   "source": [
    "# The number of input features\n",
    "in_dim = X.shape[1]\n",
    "\n",
    "# The number of \"polynomial features\" of order 2\n",
    "hidden1 = int(in_dim * 2 + (in_dim * (in_dim-1) / 2) + 1)\n",
    "out_dim = Y.shape[1]\n",
    "\n",
    "# The sizes of the \"inference layers\"/\n",
    "hidden2 = hidden3 = hidden4 = 2 * out_dim   "
   ]
  },
  {
   "cell_type": "code",
   "execution_count": 5,
   "metadata": {},
   "outputs": [
    {
     "data": {
      "text/plain": [
       "(6, 28, 22, 22, 22, 11)"
      ]
     },
     "execution_count": 5,
     "metadata": {},
     "output_type": "execute_result"
    }
   ],
   "source": [
    "in_dim, hidden1, hidden2, hidden3, hidden4, out_dim"
   ]
  },
  {
   "cell_type": "code",
   "execution_count": 6,
   "metadata": {},
   "outputs": [],
   "source": [
    "def do_training(model, X_train, Y_train, optimizer, loss_fn, \n",
    "                batch_size=1000, show_every=500):\n",
    "    last_loss \n",
    "    for t in range(50_001):\n",
    "        # Sample a few training rows\n",
    "        indices = np.random.randint(0, X_train.shape[0], batch_size)\n",
    "        X = X_train[indices]\n",
    "        Y = Y_train[indices]\n",
    "        \n",
    "        # Forward pass: compute predicted y by passing x to the model.\n",
    "        Y_pred = model(X)\n",
    "\n",
    "        # Compute and print loss.\n",
    "        loss = loss_fn(Y_pred, Y)\n",
    "        if not t % show_every:\n",
    "            print(\"Iteration: %d; Loss: %f\" % (t, loss.item()))\n",
    "\n",
    "        # Before the backward pass, use the optimizer object to zero all of the\n",
    "        # gradients for the variables it will update (which are the learnable\n",
    "        # weights of the model). This is because by default, gradients are\n",
    "        # accumulated in buffers( i.e, not overwritten) whenever .backward()\n",
    "        # is called. Checkout docs of torch.autograd.backward for more details.\n",
    "        optimizer.zero_grad()\n",
    "\n",
    "        # Backward pass: compute gradient of the loss with respect to model\n",
    "        # parameters\n",
    "        loss.backward()\n",
    "\n",
    "        # Calling the step function on an Optimizer makes an update to its\n",
    "        # parameters\n",
    "        optimizer.step()"
   ]
  },
  {
   "cell_type": "code",
   "execution_count": 7,
   "metadata": {},
   "outputs": [],
   "source": [
    "# Create a sequential NN\n",
    "model = torch.nn.Sequential(\n",
    "    # This layer allows \"polynomial features\"\n",
    "    torch.nn.Linear(in_dim, hidden1),\n",
    "    # The activation is treated as a separate layer\n",
    "    torch.nn.ReLU(),\n",
    "\n",
    "    # This layer is \"inference\"\n",
    "    torch.nn.Linear(hidden1, hidden2),\n",
    "    # Often Leaky ReLU eliminates the \"dead neuron\" danger\n",
    "    torch.nn.LeakyReLU(), \n",
    "    \n",
    "    # A Dropout layer sometimes reduces co-adaptation of neurons\n",
    "    torch.nn.Dropout(p=0.1),\n",
    "\n",
    "    # This layer is \"inference\"\n",
    "    torch.nn.Linear(hidden2, hidden3),\n",
    "    torch.nn.LeakyReLU(), \n",
    "    torch.nn.Dropout(p=0.1),\n",
    "    \n",
    "    # This layer is \"inference\"\n",
    "    torch.nn.Linear(hidden3, hidden4),\n",
    "    torch.nn.LeakyReLU(), \n",
    "    torch.nn.Dropout(p=0.1),\n",
    "\n",
    "    # A sigmoid activation is used for a binary decision\n",
    "    # Since we use one-hot encoding, we essentially make a \n",
    "    torch.nn.Linear(hidden4, out_dim),  \n",
    "    torch.nn.Sigmoid()\n",
    "    ).to(device)"
   ]
  },
  {
   "cell_type": "code",
   "execution_count": 8,
   "metadata": {},
   "outputs": [
    {
     "name": "stdout",
     "output_type": "stream",
     "text": [
      "11,264 bytes allocated on GPU\n",
      "16,919,552 bytes allocated on GPU\n"
     ]
    }
   ],
   "source": [
    "# Free up the GPU\n",
    "torch.cuda.empty_cache()\n",
    "print(f\"{torch.cuda.memory_allocated():,} bytes allocated on GPU\")\n",
    "\n",
    "# Split the original data\n",
    "X_train, X_test, Y_train, Y_test = train_test_split(X, Y)\n",
    "\n",
    "# Convert arrays to tensors\n",
    "X_train = torch.from_numpy(X_train.values).float().to(device)\n",
    "X_test  = torch.from_numpy(X_test.values).float().to(device)\n",
    "Y_train = torch.from_numpy(Y_train.values)[:, np.newaxis].float().to(device)\n",
    "Y_test  = torch.from_numpy(Y_test.values)[:, np.newaxis].float().to(device)\n",
    "\n",
    "print(f\"{torch.cuda.memory_allocated():,} bytes allocated on GPU\")"
   ]
  },
  {
   "cell_type": "code",
   "execution_count": 9,
   "metadata": {},
   "outputs": [
    {
     "name": "stdout",
     "output_type": "stream",
     "text": [
      "----------------------------------------------------------------\n",
      "        Layer (type)               Output Shape         Param #\n",
      "================================================================\n",
      "            Linear-1                [-1, 1, 28]             196\n",
      "              ReLU-2                [-1, 1, 28]               0\n",
      "            Linear-3                [-1, 1, 22]             638\n",
      "         LeakyReLU-4                [-1, 1, 22]               0\n",
      "           Dropout-5                [-1, 1, 22]               0\n",
      "            Linear-6                [-1, 1, 22]             506\n",
      "         LeakyReLU-7                [-1, 1, 22]               0\n",
      "           Dropout-8                [-1, 1, 22]               0\n",
      "            Linear-9                [-1, 1, 22]             506\n",
      "        LeakyReLU-10                [-1, 1, 22]               0\n",
      "          Dropout-11                [-1, 1, 22]               0\n",
      "           Linear-12                [-1, 1, 11]             253\n",
      "          Sigmoid-13                [-1, 1, 11]               0\n",
      "================================================================\n",
      "Total params: 2,099\n",
      "Trainable params: 2,099\n",
      "Non-trainable params: 0\n",
      "----------------------------------------------------------------\n",
      "Input size (MB): 0.00\n",
      "Forward/backward pass size (MB): 0.00\n",
      "Params size (MB): 0.01\n",
      "Estimated Total Size (MB): 0.01\n",
      "----------------------------------------------------------------\n"
     ]
    }
   ],
   "source": [
    "from torchsummary import summary\n",
    "summary(model, input_size=(1, X_train.shape[1]))"
   ]
  },
  {
   "cell_type": "code",
   "execution_count": 31,
   "metadata": {},
   "outputs": [
    {
     "data": {
      "text/plain": [
       "(0.0001, torch.optim.adam.Adam)"
      ]
     },
     "execution_count": 31,
     "metadata": {},
     "output_type": "execute_result"
    }
   ],
   "source": [
    "optimizer.param_groups[0]['lr'], optimizer.__class__"
   ]
  },
  {
   "cell_type": "code",
   "execution_count": 10,
   "metadata": {},
   "outputs": [
    {
     "name": "stdout",
     "output_type": "stream",
     "text": [
      "Iteration: 0; Loss: 0.356154\n",
      "Iteration: 500; Loss: 0.088043\n",
      "Iteration: 1000; Loss: 0.085316\n",
      "Iteration: 1500; Loss: 0.083695\n",
      "Iteration: 2000; Loss: 0.081858\n",
      "Iteration: 2500; Loss: 0.081749\n",
      "Iteration: 3000; Loss: 0.081408\n",
      "Iteration: 3500; Loss: 0.080968\n",
      "Iteration: 4000; Loss: 0.080899\n",
      "Iteration: 4500; Loss: 0.080089\n",
      "Iteration: 5000; Loss: 0.080360\n",
      "Iteration: 5500; Loss: 0.080819\n",
      "Iteration: 6000; Loss: 0.080149\n",
      "Iteration: 6500; Loss: 0.080082\n",
      "Iteration: 7000; Loss: 0.080679\n",
      "Iteration: 7500; Loss: 0.079330\n",
      "Iteration: 8000; Loss: 0.080221\n",
      "Iteration: 8500; Loss: 0.080072\n",
      "Iteration: 9000; Loss: 0.080327\n",
      "Iteration: 9500; Loss: 0.079938\n",
      "Iteration: 10000; Loss: 0.080002\n",
      "Iteration: 10500; Loss: 0.080097\n",
      "Iteration: 11000; Loss: 0.079698\n",
      "Iteration: 11500; Loss: 0.080279\n",
      "Iteration: 12000; Loss: 0.079667\n",
      "Iteration: 12500; Loss: 0.079830\n",
      "Iteration: 13000; Loss: 0.080481\n",
      "Iteration: 13500; Loss: 0.079623\n",
      "Iteration: 14000; Loss: 0.079569\n",
      "Iteration: 14500; Loss: 0.080091\n",
      "Iteration: 15000; Loss: 0.079663\n",
      "Iteration: 15500; Loss: 0.079635\n",
      "Iteration: 16000; Loss: 0.079461\n",
      "Iteration: 16500; Loss: 0.079411\n",
      "Iteration: 17000; Loss: 0.079552\n",
      "Iteration: 17500; Loss: 0.079920\n",
      "Iteration: 18000; Loss: 0.079705\n",
      "Iteration: 18500; Loss: 0.079717\n",
      "Iteration: 19000; Loss: 0.079761\n",
      "Iteration: 19500; Loss: 0.080005\n",
      "Iteration: 20000; Loss: 0.079430\n",
      "Iteration: 20500; Loss: 0.079918\n"
     ]
    },
    {
     "ename": "KeyboardInterrupt",
     "evalue": "",
     "output_type": "error",
     "traceback": [
      "\u001b[0;31m\u001b[0m",
      "\u001b[0;31mKeyboardInterrupt\u001b[0mTraceback (most recent call last)",
      "\u001b[0;32m<timed exec>\u001b[0m in \u001b[0;36m<module>\u001b[0;34m\u001b[0m\n",
      "\u001b[0;32m<ipython-input-6-0d8f7e8520ef>\u001b[0m in \u001b[0;36mdo_training\u001b[0;34m(model, X_train, Y_train, optimizer, loss_fn, batch_size, show_every)\u001b[0m\n\u001b[1;32m     28\u001b[0m         \u001b[0;31m# Calling the step function on an Optimizer makes an update to its\u001b[0m\u001b[0;34m\u001b[0m\u001b[0;34m\u001b[0m\u001b[0;34m\u001b[0m\u001b[0m\n\u001b[1;32m     29\u001b[0m         \u001b[0;31m# parameters\u001b[0m\u001b[0;34m\u001b[0m\u001b[0;34m\u001b[0m\u001b[0;34m\u001b[0m\u001b[0m\n\u001b[0;32m---> 30\u001b[0;31m         \u001b[0moptimizer\u001b[0m\u001b[0;34m.\u001b[0m\u001b[0mstep\u001b[0m\u001b[0;34m(\u001b[0m\u001b[0;34m)\u001b[0m\u001b[0;34m\u001b[0m\u001b[0;34m\u001b[0m\u001b[0m\n\u001b[0m",
      "\u001b[0;32m/opt/conda/lib/python3.7/site-packages/torch/optim/adam.py\u001b[0m in \u001b[0;36mstep\u001b[0;34m(self, closure)\u001b[0m\n\u001b[1;32m     92\u001b[0m                 \u001b[0;31m# Decay the first and second moment running average coefficient\u001b[0m\u001b[0;34m\u001b[0m\u001b[0;34m\u001b[0m\u001b[0;34m\u001b[0m\u001b[0m\n\u001b[1;32m     93\u001b[0m                 \u001b[0mexp_avg\u001b[0m\u001b[0;34m.\u001b[0m\u001b[0mmul_\u001b[0m\u001b[0;34m(\u001b[0m\u001b[0mbeta1\u001b[0m\u001b[0;34m)\u001b[0m\u001b[0;34m.\u001b[0m\u001b[0madd_\u001b[0m\u001b[0;34m(\u001b[0m\u001b[0;36m1\u001b[0m \u001b[0;34m-\u001b[0m \u001b[0mbeta1\u001b[0m\u001b[0;34m,\u001b[0m \u001b[0mgrad\u001b[0m\u001b[0;34m)\u001b[0m\u001b[0;34m\u001b[0m\u001b[0;34m\u001b[0m\u001b[0m\n\u001b[0;32m---> 94\u001b[0;31m                 \u001b[0mexp_avg_sq\u001b[0m\u001b[0;34m.\u001b[0m\u001b[0mmul_\u001b[0m\u001b[0;34m(\u001b[0m\u001b[0mbeta2\u001b[0m\u001b[0;34m)\u001b[0m\u001b[0;34m.\u001b[0m\u001b[0maddcmul_\u001b[0m\u001b[0;34m(\u001b[0m\u001b[0;36m1\u001b[0m \u001b[0;34m-\u001b[0m \u001b[0mbeta2\u001b[0m\u001b[0;34m,\u001b[0m \u001b[0mgrad\u001b[0m\u001b[0;34m,\u001b[0m \u001b[0mgrad\u001b[0m\u001b[0;34m)\u001b[0m\u001b[0;34m\u001b[0m\u001b[0;34m\u001b[0m\u001b[0m\n\u001b[0m\u001b[1;32m     95\u001b[0m                 \u001b[0;32mif\u001b[0m \u001b[0mamsgrad\u001b[0m\u001b[0;34m:\u001b[0m\u001b[0;34m\u001b[0m\u001b[0;34m\u001b[0m\u001b[0m\n\u001b[1;32m     96\u001b[0m                     \u001b[0;31m# Maintains the maximum of all 2nd moment running avg. till now\u001b[0m\u001b[0;34m\u001b[0m\u001b[0;34m\u001b[0m\u001b[0;34m\u001b[0m\u001b[0m\n",
      "\u001b[0;31mKeyboardInterrupt\u001b[0m: "
     ]
    }
   ],
   "source": [
    "%%time\n",
    "## Now run model\n",
    "learning_rate = 1e-4\n",
    "loss_fn = torch.nn.MSELoss()\n",
    "\n",
    "optimizer = torch.optim.Adam(model.parameters(), lr=learning_rate)\n",
    "do_training(model, X_train, Y_train, optimizer, loss_fn)"
   ]
  },
  {
   "cell_type": "code",
   "execution_count": 11,
   "metadata": {},
   "outputs": [
    {
     "data": {
      "image/png": "[encoded data removed]",
      "text/plain": [
       "<Figure size 576x288 with 1 Axes>"
      ]
     },
     "metadata": {
      "needs_background": "light"
     },
     "output_type": "display_data"
    }
   ],
   "source": [
    "from random import randrange\n",
    "\n",
    "ndx = randrange(len(X_test))\n",
    "probs = model(X_test[ndx])\n",
    "truth = torch.argmax(Y_test[ndx]).item()\n",
    "\n",
    "plt.figure(figsize=(8, 4))\n",
    "plt.plot(labels, probs.cpu().detach().numpy())\n",
    "plt.bar(truth, 1.1*max(probs.cpu().detach().numpy()), width=.25, color='red')\n",
    "plt.xticks(range(len(labels)), labels, fontsize=8, rotation='vertical');"
   ]
  },
  {
   "cell_type": "code",
   "execution_count": 12,
   "metadata": {},
   "outputs": [
    {
     "data": {
      "text/plain": [
       "array([[4, 3, 2],\n",
       "       [4, 3, 2],\n",
       "       [3, 4, 2],\n",
       "       ...,\n",
       "       [3, 4, 2],\n",
       "       [3, 4, 2],\n",
       "       [3, 4, 2]])"
      ]
     },
     "execution_count": 12,
     "metadata": {},
     "output_type": "execute_result"
    }
   ],
   "source": [
    "y_pred = model(X_test).cpu().detach().numpy().argsort(axis=1)[:,:-4:-1]\n",
    "y_pred"
   ]
  },
  {
   "cell_type": "code",
   "execution_count": 13,
   "metadata": {},
   "outputs": [],
   "source": [
    "y = np.argmax(Y_test.cpu().detach().numpy(), axis=2).flatten()"
   ]
  },
  {
   "cell_type": "code",
   "execution_count": 14,
   "metadata": {},
   "outputs": [
    {
     "name": "stdout",
     "output_type": "stream",
     "text": [
      "6 -> 6, 4, 2\n",
      "8 -> 6, 4, 2\n",
      "14 -> 4, 6, 2\n",
      "8 -> 4, 6, 8\n",
      "12 -> 4, 6, 8\n",
      "8 -> 4, 6, 2\n",
      "8 -> 6, 4, 2\n",
      "6 -> 4, 6, 2\n",
      "2 -> 4, 6, 2\n",
      "6 -> 6, 4, 8\n",
      "4 -> 4, 6, 2\n",
      "4 -> 4, 6, 8\n",
      "8 -> 4, 6, 2\n",
      "00 -> 4, 6, 2\n",
      "6 -> 4, 6, 8\n",
      "12 -> 4, 6, 2\n",
      "8 -> 4, 6, 8\n",
      "2 -> 4, 6, 8\n",
      "2 -> 4, 6, 8\n",
      "12 -> 4, 6, 8\n",
      "8 -> 4, 6, 2\n",
      "4 -> 4, 6, 8\n",
      "8 -> 4, 6, 2\n",
      "2 -> 4, 6, 2\n",
      "8 -> 6, 4, 2\n",
      "0 -> 4, 6, 2\n",
      "00 -> 4, 6, 2\n",
      "0 -> 4, 6, 2\n",
      "12 -> 4, 6, 2\n",
      "4 -> 6, 4, 2\n",
      "2 -> 4, 6, 2\n",
      "0 -> 4, 6, 2\n",
      "12 -> 4, 6, 2\n",
      "4 -> 4, 6, 2\n",
      "2 -> 4, 6, 2\n",
      "2 -> 4, 6, 2\n",
      "00 -> 4, 6, 2\n",
      "4 -> 4, 6, 8\n",
      "8 -> 4, 6, 2\n",
      "10 -> 4, 6, 2\n",
      "6 -> 6, 4, 2\n",
      "6 -> 4, 6, 2\n",
      "6 -> 6, 4, 8\n",
      "2 -> 6, 4, 2\n",
      "10 -> 6, 4, 2\n",
      "00 -> 6, 4, 8\n",
      "8 -> 4, 6, 2\n",
      "4 -> 4, 6, 2\n",
      "00 -> 6, 4, 8\n",
      "12 -> 4, 6, 2\n",
      "2 -> 4, 6, 8\n",
      "8 -> 4, 6, 2\n",
      "2 -> 6, 4, 8\n",
      "8 -> 4, 6, 2\n",
      "0 -> 4, 6, 2\n",
      "4 -> 6, 4, 2\n",
      "0 -> 4, 6, 2\n",
      "2 -> 6, 4, 8\n",
      "12 -> 4, 6, 2\n",
      "2 -> 4, 6, 8\n",
      "4 -> 4, 6, 2\n",
      "6 -> 4, 6, 2\n",
      "4 -> 6, 4, 2\n",
      "10 -> 4, 6, 2\n",
      "4 -> 6, 4, 2\n",
      "2 -> 4, 6, 8\n",
      "4 -> 4, 6, 2\n",
      "6 -> 6, 4, 2\n",
      "2 -> 6, 4, 2\n",
      "4 -> 4, 6, 2\n",
      "00 -> 4, 6, 2\n",
      "4 -> 4, 6, 2\n",
      "6 -> 4, 6, 2\n",
      "10 -> 4, 6, 8\n",
      "10 -> 6, 4, 8\n",
      "8 -> 6, 4, 8\n",
      "6 -> 4, 6, 8\n",
      "4 -> 6, 4, 8\n",
      "12 -> 4, 6, 2\n",
      "6 -> 6, 4, 2\n",
      "12 -> 6, 4, 8\n",
      "0 -> 4, 6, 2\n",
      "0 -> 6, 4, 2\n",
      "6 -> 4, 6, 2\n",
      "6 -> 4, 6, 2\n",
      "00 -> 4, 6, 2\n",
      "4 -> 4, 6, 2\n",
      "6 -> 4, 6, 2\n",
      "0 -> 4, 6, 2\n",
      "14 -> 4, 6, 8\n",
      "6 -> 4, 6, 2\n",
      "16 -> 4, 6, 2\n",
      "0 -> 4, 6, 2\n",
      "18 -> 4, 6, 8\n",
      "10 -> 4, 6, 8\n",
      "4 -> 6, 4, 8\n",
      "2 -> 4, 6, 2\n",
      "0 -> 4, 6, 8\n",
      "0 -> 6, 4, 8\n",
      "8 -> 4, 6, 2\n",
      "10 -> 6, 4, 8\n",
      "12 -> 4, 6, 2\n"
     ]
    }
   ],
   "source": [
    "n = 0\n",
    "for true, claims in zip(y, y_pred):\n",
    "    predictions = \", \".join(labels[n] for n in claims[:3])\n",
    "    print(labels[true], \"->\", predictions)\n",
    "    if n > 100:\n",
    "        break\n",
    "    n += 1"
   ]
  }
 ],
 "metadata": {
  "kernelspec": {
   "display_name": "Python 3",
   "language": "python",
   "name": "python3"
  },
  "language_info": {
   "codemirror_mode": {
    "name": "ipython",
    "version": 3
   },
   "file_extension": ".py",
   "mimetype": "text/x-python",
   "name": "python",
   "nbconvert_exporter": "python",
   "pygments_lexer": "ipython3",
   "version": "3.7.1"
  }
 },
 "nbformat": 4,
 "nbformat_minor": 2
}
