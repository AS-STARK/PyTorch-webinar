{
 "cells": [
  {
   "cell_type": "markdown",
   "metadata": {},
   "source": [
    "# Machine Learning with PyTorch"
   ]
  },
  {
   "cell_type": "markdown",
   "metadata": {},
   "source": [
    "## Tasks with Networks"
   ]
  },
  {
   "cell_type": "markdown",
   "metadata": {},
   "source": [
    "<font size=\"+1\">A simple feature classifier</font>\n",
    "<a href=\"NetworkExamples_0.ipynb\"><img src=\"img/open-notebook.png\" align=\"right\"/></a>\n",
    "\n",
    "<font size=\"+1\">An image classifier</font>\n",
    "<a href=\"NetworkExamples_1.ipynb\"><img src=\"img/open-notebook.png\" align=\"right\"/></a>\n",
    "\n",
    "<font size=\"+1\"><u><b>A regression prediction</b></u></font>\n",
    "<a href=\"NetworkExamples_2.ipynb\"><img src=\"img/open-notebook.png\" align=\"right\"/></a>\n",
    "\n",
    "<font size=\"+1\">Clustering with PyTorch</font>\n",
    "<a href=\"NetworkExamples_3.ipynb\"><img src=\"img/open-notebook.png\" align=\"right\"/></a>\n",
    "\n",
    "<font size=\"+1\">Generative Adversarial Networks (GAN)</font> \n",
    "<a href=\"NetworkExamples_4.ipynb\"><img src=\"img/open-notebook.png\" align=\"right\"/></a>\n",
    "\n",
    "<font size=\"+1\">Reinforcement Learning</font>\n",
    "<a href=\"NetworkExamples_5.ipynb\"><img src=\"img/open-notebook.png\" align=\"right\"/></a>"
   ]
  },
  {
   "cell_type": "code",
   "execution_count": 1,
   "metadata": {},
   "outputs": [],
   "source": [
    "%matplotlib inline\n",
    "import numpy as np\n",
    "import pandas as pd\n",
    "import matplotlib.pyplot as plt\n",
    "import pandas as pd\n",
    "import torch\n",
    "from sklearn.model_selection import train_test_split\n",
    "\n",
    "# For demonstration, we can use CPU target if CUDA not available\n",
    "device = torch.device('cpu')\n",
    "\n",
    "# Check the status of the GPU (if present)\n",
    "if torch.cuda.is_available():\n",
    "    torch.cuda.memory_allocated()\n",
    "    # *MUCH* faster to run on GPU\n",
    "    device = torch.device('cuda') "
   ]
  },
  {
   "cell_type": "markdown",
   "metadata": {},
   "source": [
    "## A regression prediction\n",
    "\n",
    "In the classification problem I took from my work about predicting garment sizes there was a simplification to try to help our DNN.  Actual sizes are two dimensional, having both a numeric size which measures \"width\" and a descriptor (\"LONG\", \"SHORT\", \"PETITE\" that measures length.  Of course, cloth is flexible, so these things interact somewhat.  In any case, the data provided only utilizes the main size component—a \"number\", although `00` is a special number that is different from `0` in garment sizing.\n",
    "\n",
    "Given only those single number sizes, we can actually put them in a linear order unambiguously.  Framing it that way suggests a regression problem rather than a classification problem.  In the rest of this notebook, we construct a model that is mostly the same as the classifcation we performed before, but is constructed as a regression instead."
   ]
  },
  {
   "cell_type": "code",
   "execution_count": 2,
   "metadata": {},
   "outputs": [
    {
     "name": "stdout",
     "output_type": "stream",
     "text": [
      "243570\n"
     ]
    },
    {
     "data": {
      "text/html": [
       "<div>\n",
       "<style scoped>\n",
       "    .dataframe tbody tr th:only-of-type {\n",
       "        vertical-align: middle;\n",
       "    }\n",
       "\n",
       "    .dataframe tbody tr th {\n",
       "        vertical-align: top;\n",
       "    }\n",
       "\n",
       "    .dataframe thead th {\n",
       "        text-align: right;\n",
       "    }\n",
       "</style>\n",
       "<table border=\"1\" class=\"dataframe\">\n",
       "  <thead>\n",
       "    <tr style=\"text-align: right;\">\n",
       "      <th></th>\n",
       "      <th>age</th>\n",
       "      <th>bra_size_chest</th>\n",
       "      <th>bra_size_cup</th>\n",
       "      <th>height</th>\n",
       "      <th>shoe_size</th>\n",
       "      <th>weight</th>\n",
       "      <th>TARGET</th>\n",
       "    </tr>\n",
       "  </thead>\n",
       "  <tbody>\n",
       "    <tr>\n",
       "      <th>0</th>\n",
       "      <td>30.0</td>\n",
       "      <td>34.0</td>\n",
       "      <td>5.0</td>\n",
       "      <td>62.0</td>\n",
       "      <td>7.0</td>\n",
       "      <td>128.0</td>\n",
       "      <td>6</td>\n",
       "    </tr>\n",
       "    <tr>\n",
       "      <th>1</th>\n",
       "      <td>20.0</td>\n",
       "      <td>34.0</td>\n",
       "      <td>3.0</td>\n",
       "      <td>64.0</td>\n",
       "      <td>8.0</td>\n",
       "      <td>145.0</td>\n",
       "      <td>6</td>\n",
       "    </tr>\n",
       "    <tr>\n",
       "      <th>2</th>\n",
       "      <td>26.0</td>\n",
       "      <td>32.0</td>\n",
       "      <td>4.0</td>\n",
       "      <td>64.0</td>\n",
       "      <td>8.0</td>\n",
       "      <td>148.0</td>\n",
       "      <td>6</td>\n",
       "    </tr>\n",
       "    <tr>\n",
       "      <th>3</th>\n",
       "      <td>43.0</td>\n",
       "      <td>34.0</td>\n",
       "      <td>5.0</td>\n",
       "      <td>61.0</td>\n",
       "      <td>7.0</td>\n",
       "      <td>145.0</td>\n",
       "      <td>6</td>\n",
       "    </tr>\n",
       "    <tr>\n",
       "      <th>4</th>\n",
       "      <td>63.0</td>\n",
       "      <td>38.0</td>\n",
       "      <td>3.0</td>\n",
       "      <td>63.0</td>\n",
       "      <td>8.0</td>\n",
       "      <td>130.0</td>\n",
       "      <td>6</td>\n",
       "    </tr>\n",
       "  </tbody>\n",
       "</table>\n",
       "</div>"
      ],
      "text/plain": [
       "    age  bra_size_chest  bra_size_cup  height  shoe_size  weight TARGET\n",
       "0  30.0            34.0           5.0    62.0        7.0   128.0      6\n",
       "1  20.0            34.0           3.0    64.0        8.0   145.0      6\n",
       "2  26.0            32.0           4.0    64.0        8.0   148.0      6\n",
       "3  43.0            34.0           5.0    61.0        7.0   145.0      6\n",
       "4  63.0            38.0           3.0    63.0        8.0   130.0      6"
      ]
     },
     "execution_count": 2,
     "metadata": {},
     "output_type": "execute_result"
    }
   ],
   "source": [
    "df = pd.read_csv('data/garments.csv.gz', dtype={'TARGET':str})\n",
    "print(len(df))\n",
    "df.head()"
   ]
  },
  {
   "cell_type": "markdown",
   "metadata": {},
   "source": [
    "### Encoding the target\n",
    "\n",
    "For a regression problem, we do not wish to one-hot-encode the target.  Intead, we will simply convert the linearly ordered sizes to sequential integers.  These are, strictly speaking, ordinal rather than quantitative values, but it does not matter very much for this construction I.e. size `8` is not \"twice as much\" as size `4` in any measure, nor is it so in the integer sequence encoding; `8` is simply *more than* `4` to some degree."
   ]
  },
  {
   "cell_type": "code",
   "execution_count": 3,
   "metadata": {},
   "outputs": [
    {
     "data": {
      "text/plain": [
       "0    4\n",
       "1    4\n",
       "2    4\n",
       "3    4\n",
       "4    4\n",
       "Name: TARGET, dtype: int64"
      ]
     },
     "execution_count": 3,
     "metadata": {},
     "output_type": "execute_result"
    }
   ],
   "source": [
    "X = df[['age', 'bra_size_chest', 'bra_size_cup', 'height', 'shoe_size', 'weight']]\n",
    "\n",
    "sizes = ['00', '0', '2', '4', '6', '8', '10', '12', '14', '16', '18']\n",
    "size_to_num = dict(zip(sizes, range(len(sizes))))\n",
    "num_to_size = {v:k for (k, v) in size_to_num.items()}\n",
    "\n",
    "y = df.TARGET.map(size_to_num)\n",
    "y.head()"
   ]
  },
  {
   "cell_type": "markdown",
   "metadata": {},
   "source": [
    "The only real difference in setting up the layer sizes is that the output dimension is one rather than a larger number of one-hot-encoded elements."
   ]
  },
  {
   "cell_type": "code",
   "execution_count": 4,
   "metadata": {},
   "outputs": [
    {
     "data": {
      "text/plain": [
       "(6, 28, 22, 22, 22, 1)"
      ]
     },
     "execution_count": 4,
     "metadata": {},
     "output_type": "execute_result"
    }
   ],
   "source": [
    "# The number of input features\n",
    "in_dim = X.shape[1]\n",
    "\n",
    "# The number of \"polynomial features\" of order 2\n",
    "hidden1 = int(in_dim * 2 + (in_dim * (in_dim-1) / 2) + 1)\n",
    "out_dim = 1\n",
    "\n",
    "# The sizes of the \"inference layers\"/\n",
    "hidden2 = hidden3 = hidden4 = 2 * len(y.unique())  \n",
    "\n",
    "# Remind ourselves of the layer sizes\n",
    "in_dim, hidden1, hidden2, hidden3, hidden4, out_dim"
   ]
  },
  {
   "cell_type": "markdown",
   "metadata": {},
   "source": [
    "### Customizing the training regime\n",
    "\n",
    "For the most part, the code in `do_training()` is the same as we used previously.  However, a lot of trial and error went into tweaking the learning rate decay to be \"pretty good\" for this problem.  Batches and epochs are trained *much* more quickly with this simplified target; but at the same time, it takes many more epochs for loss to reach a stable valley than it did with the classification version."
   ]
  },
  {
   "cell_type": "code",
   "execution_count": 5,
   "metadata": {},
   "outputs": [],
   "source": [
    "def do_training(model, X_train, Y_train, optimizer, loss_fn, \n",
    "                epochs=5000, batch_size=5000, early_stop=6):\n",
    "    loss_history = []\n",
    "    print(\"+++ Beginning %d epochs with batch size %d\" % (epochs, batch_size))\n",
    "    for epoch in range(1, epochs+1):\n",
    "        new_epoch = True\n",
    "        for start in range(0, len(X_train), batch_size):\n",
    "            # Next batch of training rows\n",
    "            X = X_train[start:start+batch_size]\n",
    "            Y = Y_train[start:start+batch_size]\n",
    "\n",
    "            # Forward pass: compute predicted Y by passing X to the model.\n",
    "            Y_pred = model(X)\n",
    "\n",
    "            # Compute and print loss.\n",
    "            loss = loss_fn(Y_pred, Y)\n",
    "            if new_epoch:\n",
    "                print(\"Epoch %d; Loss: %0.6f (lr=%0.8f)\" % (\n",
    "                        epoch, loss.item(), optimizer.param_groups[0]['lr']))\n",
    "                new_epoch = False\n",
    "                loss_history.append(loss.item())\n",
    "                \n",
    "            # Before the backward pass, use the optimizer object to zero all of the\n",
    "            # gradients for the variables it will update (which are the learnable\n",
    "            # weights of the model). This is because by default, gradients are\n",
    "            # accumulated in buffers( i.e, not overwritten) whenever .backward()\n",
    "            # is called. Checkout docs of torch.autograd.backward for more details.\n",
    "            optimizer.zero_grad()\n",
    "\n",
    "            # Backward pass: compute gradient of the loss with respect to model\n",
    "            # parameters\n",
    "            loss.backward()\n",
    "\n",
    "            # Calling the step function on an Optimizer makes an update to its\n",
    "            # parameters\n",
    "            optimizer.step()\n",
    "                    \n",
    "        # Is this regime currently failing to reduce loss?\n",
    "        ## Run for at least `early_stop` epochs\n",
    "        if len(loss_history) < early_stop:\n",
    "            continue\n",
    "            \n",
    "        ## Lower learning rate by 2x if no improvement in loss for multiple epochs\n",
    "        diff = max(loss_history[-early_stop:]) - min(loss_history[-early_stop:])\n",
    "        if  diff/loss_history[-1] < 0.005:\n",
    "            optimizer.param_groups[0]['lr'] /= 2\n",
    "            \n",
    "        ## If learning rate is lowered to tiny value, we are not getting anywhere\n",
    "        if optimizer.param_groups[0]['lr'] < 1e-8:           \n",
    "            print(\"+++ Discontinuing training regime when loss becomes constant\")\n",
    "            break"
   ]
  },
  {
   "cell_type": "markdown",
   "metadata": {},
   "source": [
    "### Defining the model\n",
    "\n",
    "The only thing different in this model versus that used in the classifier is that the final layer has a single output, and there is no activation function applied to it.  This gives us a regression instead.  Perhaps not the optimal one possible, but at least framed the right way."
   ]
  },
  {
   "cell_type": "code",
   "execution_count": 6,
   "metadata": {},
   "outputs": [],
   "source": [
    "# Create a sequential NN\n",
    "model = torch.nn.Sequential(\n",
    "    # This layer allows \"polynomial features\"\n",
    "    torch.nn.Linear(in_dim, hidden1),\n",
    "    # The activation is treated as a separate layer\n",
    "    torch.nn.ReLU(),\n",
    "\n",
    "    # This layer is \"inference\"\n",
    "    torch.nn.Linear(hidden1, hidden2),\n",
    "    torch.nn.ReLU(), \n",
    "    \n",
    "    # A Dropout layer sometimes reduces co-adaptation of neurons\n",
    "    torch.nn.Dropout(p=0.1),\n",
    "\n",
    "    # This layer is \"inference\"\n",
    "    torch.nn.Linear(hidden2, hidden3),\n",
    "    # Often Leaky ReLU eliminates the \"dead neuron\" danger\n",
    "    torch.nn.LeakyReLU(), \n",
    "    \n",
    "    # Might try another \"inference\" layer\n",
    "    torch.nn.Linear(hidden3, hidden4),\n",
    "    torch.nn.LeakyReLU(), \n",
    "\n",
    "    # A basic linear layer with one output for the \"continuous\" target \n",
    "    torch.nn.Linear(hidden4, out_dim),  \n",
    "    ).to(device)"
   ]
  },
  {
   "cell_type": "markdown",
   "metadata": {},
   "source": [
    "### Split the data, summarize the model"
   ]
  },
  {
   "cell_type": "code",
   "execution_count": 7,
   "metadata": {},
   "outputs": [
    {
     "name": "stdout",
     "output_type": "stream",
     "text": [
      "Just the model itself:\n",
      "10,752 bytes allocated on GPU\n",
      "Add the training and testing data to GPU:\n",
      "7,014,912 bytes allocated on GPU\n"
     ]
    }
   ],
   "source": [
    "# Free up the GPU\n",
    "torch.cuda.empty_cache()\n",
    "print(\"Just the model itself:\")\n",
    "print(f\"{torch.cuda.memory_allocated():,} bytes allocated on GPU\")\n",
    "\n",
    "# Split the original data\n",
    "X_train, X_test, y_train, y_test = train_test_split(X, y)\n",
    "\n",
    "# Convert arrays to tensors\n",
    "X_train = torch.from_numpy(X_train.values).float().to(device)\n",
    "X_test  = torch.from_numpy(X_test.values).float().to(device)\n",
    "y_train = torch.from_numpy(y_train.values)[:, np.newaxis].float().to(device)\n",
    "y_test  = torch.from_numpy(y_test.values)[:, np.newaxis].float().to(device)\n",
    "\n",
    "print(\"Add the training and testing data to GPU:\")\n",
    "print(f\"{torch.cuda.memory_allocated():,} bytes allocated on GPU\")"
   ]
  },
  {
   "cell_type": "code",
   "execution_count": 8,
   "metadata": {},
   "outputs": [
    {
     "name": "stdout",
     "output_type": "stream",
     "text": [
      "----------------------------------------------------------------\n",
      "        Layer (type)               Output Shape         Param #\n",
      "================================================================\n",
      "            Linear-1                [-1, 1, 28]             196\n",
      "              ReLU-2                [-1, 1, 28]               0\n",
      "            Linear-3                [-1, 1, 22]             638\n",
      "              ReLU-4                [-1, 1, 22]               0\n",
      "           Dropout-5                [-1, 1, 22]               0\n",
      "            Linear-6                [-1, 1, 22]             506\n",
      "         LeakyReLU-7                [-1, 1, 22]               0\n",
      "            Linear-8                [-1, 1, 22]             506\n",
      "         LeakyReLU-9                [-1, 1, 22]               0\n",
      "           Linear-10                 [-1, 1, 1]              23\n",
      "================================================================\n",
      "Total params: 1,869\n",
      "Trainable params: 1,869\n",
      "Non-trainable params: 0\n",
      "----------------------------------------------------------------\n",
      "Input size (MB): 0.00\n",
      "Forward/backward pass size (MB): 0.00\n",
      "Params size (MB): 0.01\n",
      "Estimated Total Size (MB): 0.01\n",
      "----------------------------------------------------------------\n"
     ]
    }
   ],
   "source": [
    "from torchsummary import summary\n",
    "summary(model, input_size=(1, X_train.shape[1]))"
   ]
  },
  {
   "cell_type": "markdown",
   "metadata": {},
   "source": [
    "### Train the model\n",
    "\n",
    "This will run for quite a few epochs.  On a good GPU, each epoch completes very quickly though."
   ]
  },
  {
   "cell_type": "code",
   "execution_count": 9,
   "metadata": {
    "scrolled": true
   },
   "outputs": [
    {
     "name": "stdout",
     "output_type": "stream",
     "text": [
      "+++ Beginning 5000 epochs with batch size 5000\n",
      "Epoch 1; Loss: 4.072652 (lr=0.00010000)\n",
      "Epoch 2; Loss: 3.049572 (lr=0.00010000)\n",
      "Epoch 3; Loss: 1.920147 (lr=0.00010000)\n",
      "Epoch 4; Loss: 1.103271 (lr=0.00010000)\n",
      "Epoch 5; Loss: 1.000879 (lr=0.00010000)\n",
      "Epoch 6; Loss: 0.995870 (lr=0.00010000)\n",
      "Epoch 7; Loss: 0.958177 (lr=0.00010000)\n",
      "Epoch 8; Loss: 0.932585 (lr=0.00010000)\n",
      "Epoch 9; Loss: 0.900398 (lr=0.00010000)\n",
      "Epoch 10; Loss: 0.867173 (lr=0.00010000)\n",
      "Epoch 11; Loss: 0.846460 (lr=0.00010000)\n",
      "Epoch 12; Loss: 0.798907 (lr=0.00010000)\n",
      "Epoch 13; Loss: 0.773657 (lr=0.00010000)\n",
      "Epoch 14; Loss: 0.760428 (lr=0.00010000)\n",
      "Epoch 15; Loss: 0.745389 (lr=0.00010000)\n",
      "Epoch 16; Loss: 0.717555 (lr=0.00010000)\n",
      "Epoch 17; Loss: 0.698719 (lr=0.00010000)\n",
      "Epoch 18; Loss: 0.696546 (lr=0.00010000)\n",
      "Epoch 19; Loss: 0.683856 (lr=0.00010000)\n",
      "Epoch 20; Loss: 0.678284 (lr=0.00010000)\n",
      "Epoch 21; Loss: 0.673322 (lr=0.00010000)\n",
      "Epoch 22; Loss: 0.657138 (lr=0.00010000)\n",
      "Epoch 23; Loss: 0.656391 (lr=0.00010000)\n",
      "Epoch 24; Loss: 0.647412 (lr=0.00010000)\n",
      "Epoch 25; Loss: 0.647209 (lr=0.00010000)\n",
      "Epoch 26; Loss: 0.639845 (lr=0.00010000)\n",
      "Epoch 27; Loss: 0.635344 (lr=0.00010000)\n",
      "Epoch 28; Loss: 0.631315 (lr=0.00010000)\n",
      "Epoch 29; Loss: 0.628101 (lr=0.00010000)\n",
      "Epoch 30; Loss: 0.627536 (lr=0.00010000)\n",
      "Epoch 31; Loss: 0.630457 (lr=0.00010000)\n",
      "Epoch 32; Loss: 0.624395 (lr=0.00010000)\n",
      "Epoch 33; Loss: 0.615847 (lr=0.00010000)\n",
      "Epoch 34; Loss: 0.620092 (lr=0.00010000)\n",
      "Epoch 35; Loss: 0.618676 (lr=0.00010000)\n",
      "Epoch 36; Loss: 0.617373 (lr=0.00010000)\n",
      "Epoch 37; Loss: 0.620642 (lr=0.00010000)\n",
      "Epoch 38; Loss: 0.614807 (lr=0.00010000)\n",
      "Epoch 39; Loss: 0.620245 (lr=0.00010000)\n",
      "Epoch 40; Loss: 0.617326 (lr=0.00010000)\n",
      "Epoch 41; Loss: 0.612741 (lr=0.00010000)\n",
      "Epoch 42; Loss: 0.616112 (lr=0.00010000)\n",
      "Epoch 43; Loss: 0.618501 (lr=0.00010000)\n",
      "Epoch 44; Loss: 0.614356 (lr=0.00010000)\n",
      "Epoch 45; Loss: 0.614730 (lr=0.00010000)\n",
      "Epoch 46; Loss: 0.612105 (lr=0.00010000)\n",
      "Epoch 47; Loss: 0.614282 (lr=0.00010000)\n",
      "Epoch 48; Loss: 0.610147 (lr=0.00010000)\n",
      "Epoch 49; Loss: 0.606178 (lr=0.00010000)\n",
      "Epoch 50; Loss: 0.609103 (lr=0.00010000)\n",
      "Epoch 51; Loss: 0.608443 (lr=0.00010000)\n",
      "Epoch 52; Loss: 0.605717 (lr=0.00010000)\n",
      "Epoch 53; Loss: 0.607376 (lr=0.00010000)\n",
      "Epoch 54; Loss: 0.609087 (lr=0.00010000)\n",
      "Epoch 55; Loss: 0.605178 (lr=0.00010000)\n",
      "Epoch 56; Loss: 0.606611 (lr=0.00010000)\n",
      "Epoch 57; Loss: 0.606713 (lr=0.00010000)\n",
      "Epoch 58; Loss: 0.603114 (lr=0.00010000)\n",
      "Epoch 59; Loss: 0.603288 (lr=0.00010000)\n",
      "Epoch 60; Loss: 0.603786 (lr=0.00010000)\n",
      "Epoch 61; Loss: 0.601954 (lr=0.00010000)\n",
      "Epoch 62; Loss: 0.602049 (lr=0.00010000)\n",
      "Epoch 63; Loss: 0.604926 (lr=0.00010000)\n",
      "Epoch 64; Loss: 0.603336 (lr=0.00005000)\n",
      "Epoch 65; Loss: 0.601364 (lr=0.00002500)\n",
      "Epoch 66; Loss: 0.603019 (lr=0.00002500)\n",
      "Epoch 67; Loss: 0.600596 (lr=0.00002500)\n",
      "Epoch 68; Loss: 0.604373 (lr=0.00002500)\n",
      "Epoch 69; Loss: 0.602302 (lr=0.00002500)\n",
      "Epoch 70; Loss: 0.602226 (lr=0.00002500)\n",
      "Epoch 71; Loss: 0.598524 (lr=0.00002500)\n",
      "Epoch 72; Loss: 0.603828 (lr=0.00002500)\n",
      "Epoch 73; Loss: 0.600168 (lr=0.00002500)\n",
      "Epoch 74; Loss: 0.602039 (lr=0.00002500)\n",
      "Epoch 75; Loss: 0.600926 (lr=0.00002500)\n",
      "Epoch 76; Loss: 0.599363 (lr=0.00002500)\n",
      "Epoch 77; Loss: 0.603136 (lr=0.00002500)\n",
      "Epoch 78; Loss: 0.600656 (lr=0.00002500)\n",
      "Epoch 79; Loss: 0.602682 (lr=0.00002500)\n",
      "Epoch 80; Loss: 0.600580 (lr=0.00002500)\n",
      "Epoch 81; Loss: 0.601111 (lr=0.00002500)\n",
      "Epoch 82; Loss: 0.596411 (lr=0.00002500)\n",
      "Epoch 83; Loss: 0.599815 (lr=0.00002500)\n",
      "Epoch 84; Loss: 0.604678 (lr=0.00002500)\n",
      "Epoch 85; Loss: 0.599995 (lr=0.00002500)\n",
      "Epoch 86; Loss: 0.598807 (lr=0.00002500)\n",
      "Epoch 87; Loss: 0.599110 (lr=0.00002500)\n",
      "Epoch 88; Loss: 0.602726 (lr=0.00002500)\n",
      "Epoch 89; Loss: 0.599436 (lr=0.00002500)\n",
      "Epoch 90; Loss: 0.600809 (lr=0.00002500)\n",
      "Epoch 91; Loss: 0.601647 (lr=0.00002500)\n",
      "Epoch 92; Loss: 0.596187 (lr=0.00002500)\n",
      "Epoch 93; Loss: 0.601258 (lr=0.00002500)\n",
      "Epoch 94; Loss: 0.600078 (lr=0.00002500)\n",
      "Epoch 95; Loss: 0.598664 (lr=0.00002500)\n",
      "Epoch 96; Loss: 0.601328 (lr=0.00002500)\n",
      "Epoch 97; Loss: 0.602336 (lr=0.00002500)\n",
      "Epoch 98; Loss: 0.600304 (lr=0.00002500)\n",
      "Epoch 99; Loss: 0.594399 (lr=0.00002500)\n",
      "Epoch 100; Loss: 0.599128 (lr=0.00002500)\n",
      "Epoch 101; Loss: 0.601502 (lr=0.00002500)\n",
      "Epoch 102; Loss: 0.601999 (lr=0.00002500)\n",
      "Epoch 103; Loss: 0.599553 (lr=0.00002500)\n",
      "Epoch 104; Loss: 0.600642 (lr=0.00002500)\n",
      "Epoch 105; Loss: 0.598573 (lr=0.00002500)\n",
      "Epoch 106; Loss: 0.598806 (lr=0.00002500)\n",
      "Epoch 107; Loss: 0.597546 (lr=0.00002500)\n",
      "Epoch 108; Loss: 0.598738 (lr=0.00002500)\n",
      "Epoch 109; Loss: 0.599428 (lr=0.00002500)\n",
      "Epoch 110; Loss: 0.600117 (lr=0.00002500)\n",
      "Epoch 111; Loss: 0.599144 (lr=0.00001250)\n",
      "Epoch 112; Loss: 0.600310 (lr=0.00000625)\n",
      "Epoch 113; Loss: 0.602503 (lr=0.00000313)\n",
      "Epoch 114; Loss: 0.599953 (lr=0.00000313)\n",
      "Epoch 115; Loss: 0.600742 (lr=0.00000313)\n",
      "Epoch 116; Loss: 0.599589 (lr=0.00000313)\n",
      "Epoch 117; Loss: 0.599041 (lr=0.00000313)\n",
      "Epoch 118; Loss: 0.597686 (lr=0.00000313)\n",
      "Epoch 119; Loss: 0.600092 (lr=0.00000313)\n",
      "Epoch 120; Loss: 0.600315 (lr=0.00000313)\n",
      "Epoch 121; Loss: 0.599379 (lr=0.00000313)\n",
      "Epoch 122; Loss: 0.600015 (lr=0.00000156)\n",
      "Epoch 123; Loss: 0.597092 (lr=0.00000078)\n",
      "Epoch 124; Loss: 0.601600 (lr=0.00000078)\n",
      "Epoch 125; Loss: 0.599660 (lr=0.00000078)\n",
      "Epoch 126; Loss: 0.597941 (lr=0.00000078)\n",
      "Epoch 127; Loss: 0.601570 (lr=0.00000078)\n",
      "Epoch 128; Loss: 0.599284 (lr=0.00000078)\n",
      "Epoch 129; Loss: 0.596317 (lr=0.00000078)\n",
      "Epoch 130; Loss: 0.601345 (lr=0.00000078)\n",
      "Epoch 131; Loss: 0.599135 (lr=0.00000078)\n",
      "Epoch 132; Loss: 0.598585 (lr=0.00000078)\n",
      "Epoch 133; Loss: 0.599754 (lr=0.00000078)\n",
      "Epoch 134; Loss: 0.598531 (lr=0.00000078)\n",
      "Epoch 135; Loss: 0.598824 (lr=0.00000078)\n",
      "Epoch 136; Loss: 0.601502 (lr=0.00000039)\n",
      "Epoch 137; Loss: 0.595626 (lr=0.00000020)\n",
      "Epoch 138; Loss: 0.597622 (lr=0.00000020)\n",
      "Epoch 139; Loss: 0.601608 (lr=0.00000020)\n",
      "Epoch 140; Loss: 0.600838 (lr=0.00000020)\n",
      "Epoch 141; Loss: 0.601717 (lr=0.00000020)\n",
      "Epoch 142; Loss: 0.601752 (lr=0.00000020)\n",
      "Epoch 143; Loss: 0.600351 (lr=0.00000020)\n",
      "Epoch 144; Loss: 0.596683 (lr=0.00000020)\n",
      "Epoch 145; Loss: 0.597432 (lr=0.00000020)\n",
      "Epoch 146; Loss: 0.597589 (lr=0.00000020)\n",
      "Epoch 147; Loss: 0.599379 (lr=0.00000020)\n",
      "Epoch 148; Loss: 0.597820 (lr=0.00000020)\n",
      "Epoch 149; Loss: 0.601839 (lr=0.00000020)\n",
      "Epoch 150; Loss: 0.596281 (lr=0.00000020)\n",
      "Epoch 151; Loss: 0.598181 (lr=0.00000020)\n",
      "Epoch 152; Loss: 0.600654 (lr=0.00000020)\n",
      "Epoch 153; Loss: 0.597523 (lr=0.00000020)\n",
      "Epoch 154; Loss: 0.598750 (lr=0.00000020)\n",
      "Epoch 155; Loss: 0.598355 (lr=0.00000020)\n",
      "Epoch 156; Loss: 0.597417 (lr=0.00000020)\n",
      "Epoch 157; Loss: 0.599149 (lr=0.00000020)\n",
      "Epoch 158; Loss: 0.599640 (lr=0.00000020)\n",
      "Epoch 159; Loss: 0.597864 (lr=0.00000010)\n",
      "Epoch 160; Loss: 0.599493 (lr=0.00000005)\n",
      "Epoch 161; Loss: 0.598320 (lr=0.00000002)\n",
      "Epoch 162; Loss: 0.598648 (lr=0.00000001)\n",
      "+++ Discontinuing training regime when loss becomes constant\n",
      "CPU times: user 8.27 s, sys: 273 ms, total: 8.54 s\n",
      "Wall time: 8.54 s\n"
     ]
    }
   ],
   "source": [
    "%%time\n",
    "## Now run model (start with high learning rate and decay)\n",
    "\n",
    "loss_fn = torch.nn.SmoothL1Loss()\n",
    "learning_rate = 1e-4\n",
    "optimizer = torch.optim.Adam(model.parameters(), lr=learning_rate)\n",
    "do_training(model, X_train, y_train, optimizer, loss_fn)"
   ]
  },
  {
   "cell_type": "markdown",
   "metadata": {},
   "source": [
    "### Visualizing the predictions\n",
    "\n",
    "Our regression approach, we cannot determine any prediction probabilities.  In some ways, this is an advantage because we do not get discontinuities between a \"best guess\" and a \"second guess\" as we saw in the classification approach.  As a domain matter, the second guess should almost surely be \"a little bit smaller\" or a \"a little bit larger\" than the best guess.\n",
    "\n",
    "However, that simplification relies on our prior simplification of the target to ordinal values.  In the two dimensional sizing of the original garments, it is harder to say precisely what \"next largest\" or \"next smallest\" mean.  The visualization below simply makes a large number of predictions, and maps each point with an X-axis of the \"ground truth\" and a Y-axis of the prediction.  The predictions are continuous values, but those could easily be rounded to integers in the mapped range to make an actual garment size prediction.\n",
    "\n",
    "Notice that some predictions are of numeric values greater than 10 (the ordinal encoding of size `18`).  That would be fine with an rounding-to-ordinal rule though.  If the predictions were perfect, all the blue circles would lie on top of the red line.  The actual model is much worse than that.  It seems to do better than the classifier in some ways, but to a lesser degree also under-predicts the largest and smallest sizes, favoring middle sizes.  Moreover, the spread of predictions around the ground truth is not yet especially tight.\n",
    "\n",
    "Do you have ideas for approaches to improve these predictions?"
   ]
  },
  {
   "cell_type": "code",
   "execution_count": 10,
   "metadata": {},
   "outputs": [
    {
     "data": {
      "image/png": "[encoded data removed]",
      "text/plain": [
       "<Figure size 432x432 with 1 Axes>"
      ]
     },
     "metadata": {
      "needs_background": "light"
     },
     "output_type": "display_data"
    }
   ],
   "source": [
    "from numpy.random import randint\n",
    "labels = size_to_num.keys()\n",
    "\n",
    "ndxs = randint(0, len(X_test), 10_000)\n",
    "predictions = [p.item() for p in model(X_test[ndxs])]\n",
    "truths = [t.item() for t in y_test[ndxs]]\n",
    "\n",
    "plt.figure(figsize=(6, 6))\n",
    "plt.scatter(truths, predictions, marker='o', alpha=0.1)\n",
    "plt.xticks(range(len(labels)), labels, fontsize=8, rotation='vertical')\n",
    "plt.yticks(range(len(labels)), labels, fontsize=8)\n",
    "plt.xlabel(\"True size\")\n",
    "plt.ylabel(\"Predicted size\")\n",
    "ref = np.linspace(0, 10, 100);\n",
    "plt.plot(ref, ref, color=\"red\");"
   ]
  },
  {
   "cell_type": "markdown",
   "metadata": {},
   "source": [
    "## Next Lesson\n",
    "\n",
    "**Tasks with Networks**: This lesson constructed a basic regression model, with moderately good success in its domain.  Next we will look at unsupervised learning and perform clustering with PyTorch neural networks.\n",
    "\n",
    "<a href=\"NetworkExamples_3.ipynb\"><img src=\"img/open-notebook.png\" align=\"left\"/></a>"
   ]
  }
 ],
 "metadata": {
  "kernelspec": {
   "display_name": "Python 3",
   "language": "python",
   "name": "python3"
  },
  "language_info": {
   "codemirror_mode": {
    "name": "ipython",
    "version": 3
   },
   "file_extension": ".py",
   "mimetype": "text/x-python",
   "name": "python",
   "nbconvert_exporter": "python",
   "pygments_lexer": "ipython3",
   "version": "3.7.1"
  }
 },
 "nbformat": 4,
 "nbformat_minor": 2
}
